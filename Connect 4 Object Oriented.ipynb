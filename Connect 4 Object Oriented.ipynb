{
 "cells": [
  {
   "cell_type": "code",
   "execution_count": 1,
   "metadata": {
    "collapsed": true
   },
   "outputs": [],
   "source": [
    "import pandas as pd\n",
    "import numpy as np\n",
    "from string import ascii_lowercase\n",
    "import itertools\n",
    "import string\n",
    "from collections import defaultdict\n",
    "import random\n",
    "import matplotlib.pyplot as plt\n",
    "from sklearn import linear_model, ensemble\n",
    "\n",
    "pd.set_option('display.max_columns', 50)\n",
    "\n",
    "%matplotlib inline"
   ]
  },
  {
   "cell_type": "code",
   "execution_count": 120,
   "metadata": {
    "collapsed": false
   },
   "outputs": [],
   "source": [
    "class ConnectBoard(object):\n",
    "    \"\"\"Creates the data necessary to simulate a connect game of any size\n",
    "    and with any given number of pieces in a straight line to win:\n",
    "    \n",
    "    Attributes:\n",
    "        board_empty: A empty board of size m, n\n",
    "        winning_positions: All possible winning positions\n",
    "        remaining_empty_positions: All remaining empty positions ordered by lowest to highest on the board\n",
    "    \"\"\"\n",
    "    \n",
    "    def __init__(self, width = 7, height = 6, connect_n = 4, win_types = ['up', 'across', 'diag /', 'diag \\\\']):\n",
    "        self.width = width\n",
    "        self.height = height\n",
    "        self.connect_n = connect_n\n",
    "        self.win_types = win_types\n",
    "        \n",
    "    def columns(self):\n",
    "        \"\"\"Returns all the columns on the board\"\"\"\n",
    "        return [column for column in ascii_lowercase[:self.width]]\n",
    "    \n",
    "    def rows(self):\n",
    "        \"\"\"Returns all the rows on the board\"\"\"\n",
    "        return [row for row in range(self.height)]\n",
    "    \n",
    "    def feature_columns(self):\n",
    "        \"\"\"Returns all positions on the board. These are the features for model training\"\"\"\n",
    "        return [col + str(row) for col in self.columns() for row in self.rows()]\n",
    "    \n",
    "    def new_game(self):\n",
    "        \"\"\"Returns a series with board positions as the index and 0 for each value\"\"\"\n",
    "        return pd.Series(0, self.feature_columns())\n",
    "    \n",
    "    def empty_positions(self):\n",
    "        \"\"\"Returns a dictionary of columns each with a list of available rows\"\"\"\n",
    "        return {col:[row for row in self.rows()] for col in self.columns()}\n",
    "    \n",
    "    all_win_type_positions = {}\n",
    "        \n",
    "    def win_type_positions(self):\n",
    "        win_types = self.win_types\n",
    "        connect_n = self.connect_n\n",
    "        all_rows = self.rows()\n",
    "        all_columns = self.columns()\n",
    "        limit_top_rows = self.rows()[:-connect_n + 1]\n",
    "        limit_bottom_rows = self.rows()[connect_n - 1:]\n",
    "        limit_right_columns =  self.columns()[:-connect_n + 1]\n",
    "        \n",
    "        # create dictionary of win types and a tuple of the rows and columns checked for each win type\n",
    "        for win_type in win_types:\n",
    "            if win_type == 'up':\n",
    "                rows_checked, columns_checked = limit_top_rows, all_columns\n",
    "            elif win_type == 'across':\n",
    "                rows_checked, columns_checked = all_rows, limit_right_columns\n",
    "            elif win_type == 'diag /':\n",
    "                rows_checked, columns_checked = limit_top_rows, limit_right_columns\n",
    "            elif win_type == 'diag \\\\':\n",
    "                rows_checked, columns_checked = limit_bottom_rows, limit_right_columns\n",
    "            else:\n",
    "                raise ValueError('not a valid win type')\n",
    "            self.all_win_type_positions[win_type] = [position_pair[1] + str(position_pair[0]) for position_pair in itertools.product(rows_checked, columns_checked)]\n",
    "        return self.all_win_type_positions\n",
    "    \n",
    "    def win_position_combinations(self):\n",
    "        return self.win_type_positions()"
   ]
  },
  {
   "cell_type": "code",
   "execution_count": 121,
   "metadata": {
    "collapsed": false
   },
   "outputs": [],
   "source": [
    "board_764 = ConnectBoard(7,6,4)"
   ]
  },
  {
   "cell_type": "code",
   "execution_count": 122,
   "metadata": {
    "collapsed": false
   },
   "outputs": [
    {
     "data": {
      "text/plain": [
       "{'across': ['a0',\n",
       "  'b0',\n",
       "  'c0',\n",
       "  'd0',\n",
       "  'a1',\n",
       "  'b1',\n",
       "  'c1',\n",
       "  'd1',\n",
       "  'a2',\n",
       "  'b2',\n",
       "  'c2',\n",
       "  'd2',\n",
       "  'a3',\n",
       "  'b3',\n",
       "  'c3',\n",
       "  'd3',\n",
       "  'a4',\n",
       "  'b4',\n",
       "  'c4',\n",
       "  'd4',\n",
       "  'a5',\n",
       "  'b5',\n",
       "  'c5',\n",
       "  'd5'],\n",
       " 'diag /': ['a0',\n",
       "  'b0',\n",
       "  'c0',\n",
       "  'd0',\n",
       "  'a1',\n",
       "  'b1',\n",
       "  'c1',\n",
       "  'd1',\n",
       "  'a2',\n",
       "  'b2',\n",
       "  'c2',\n",
       "  'd2'],\n",
       " 'diag \\\\': ['a3',\n",
       "  'b3',\n",
       "  'c3',\n",
       "  'd3',\n",
       "  'a4',\n",
       "  'b4',\n",
       "  'c4',\n",
       "  'd4',\n",
       "  'a5',\n",
       "  'b5',\n",
       "  'c5',\n",
       "  'd5'],\n",
       " 'up': ['a0',\n",
       "  'b0',\n",
       "  'c0',\n",
       "  'd0',\n",
       "  'e0',\n",
       "  'f0',\n",
       "  'g0',\n",
       "  'a1',\n",
       "  'b1',\n",
       "  'c1',\n",
       "  'd1',\n",
       "  'e1',\n",
       "  'f1',\n",
       "  'g1',\n",
       "  'a2',\n",
       "  'b2',\n",
       "  'c2',\n",
       "  'd2',\n",
       "  'e2',\n",
       "  'f2',\n",
       "  'g2']}"
      ]
     },
     "execution_count": 122,
     "metadata": {},
     "output_type": "execute_result"
    }
   ],
   "source": [
    "board_764.win_position_combinations()"
   ]
  },
  {
   "cell_type": "code",
   "execution_count": 82,
   "metadata": {
    "collapsed": false
   },
   "outputs": [
    {
     "data": {
      "text/plain": [
       "a0    0\n",
       "a1    0\n",
       "a2    0\n",
       "dtype: int64"
      ]
     },
     "execution_count": 82,
     "metadata": {},
     "output_type": "execute_result"
    }
   ],
   "source": [
    "board_764.new_game().ix[['a0', 'a1', 'a2']]"
   ]
  },
  {
   "cell_type": "code",
   "execution_count": null,
   "metadata": {
    "collapsed": true
   },
   "outputs": [],
   "source": [
    "if full:\n",
    "    if is_win?:\n",
    "        return win_info\n",
    "    else:\n",
    "        return remove_this_line\n",
    "else:\n",
    "    if potiential_win:\n",
    "        return potiential_win_info\n",
    "    else:\n",
    "        return do_nothing\n",
    "    \n",
    "# full and not a win then "
   ]
  },
  {
   "cell_type": "code",
   "execution_count": 3,
   "metadata": {
    "collapsed": true
   },
   "outputs": [],
   "source": [
    "class Customer(object):\n",
    "    \"\"\"A customer of ABC Bank with a checking account. Customers have the\n",
    "    following properties:\n",
    "\n",
    "    Attributes:\n",
    "        name: A string representing the customer's name.\n",
    "        balance: A float tracking the current balance of the customer's account.\n",
    "    \"\"\"\n",
    "\n",
    "    def __init__(self, name):\n",
    "        \"\"\"Return a Customer object whose name is *name*.\"\"\" \n",
    "        self.name = name\n",
    "\n",
    "    def set_balance(self, balance=0.0):\n",
    "        \"\"\"Set the customer's starting balance.\"\"\"\n",
    "        self.balance = balance\n",
    "\n",
    "    def withdraw(self, amount):\n",
    "        \"\"\"Return the balance remaining after withdrawing *amount*\n",
    "        dollars.\"\"\"\n",
    "        if amount > self.balance:\n",
    "            raise RuntimeError('Amount greater than available balance.')\n",
    "        self.balance -= amount\n",
    "        return self.balance\n",
    "\n",
    "    def deposit(self, amount):\n",
    "        \"\"\"Return the balance remaining after depositing *amount*\n",
    "        dollars.\"\"\"\n",
    "        self.balance += amount\n",
    "        return self.balance"
   ]
  },
  {
   "cell_type": "code",
   "execution_count": 12,
   "metadata": {
    "collapsed": false
   },
   "outputs": [],
   "source": [
    "david = Customer(\"David\")"
   ]
  },
  {
   "cell_type": "code",
   "execution_count": 13,
   "metadata": {
    "collapsed": false
   },
   "outputs": [],
   "source": [
    "david.set_balance(1000.0)"
   ]
  },
  {
   "cell_type": "code",
   "execution_count": 21,
   "metadata": {
    "collapsed": false
   },
   "outputs": [
    {
     "data": {
      "text/plain": [
       "950.0"
      ]
     },
     "execution_count": 21,
     "metadata": {},
     "output_type": "execute_result"
    }
   ],
   "source": [
    "david.withdraw(10)"
   ]
  },
  {
   "cell_type": "code",
   "execution_count": null,
   "metadata": {
    "collapsed": true
   },
   "outputs": [],
   "source": []
  }
 ],
 "metadata": {
  "kernelspec": {
   "display_name": "Python 2",
   "language": "python",
   "name": "python2"
  },
  "language_info": {
   "codemirror_mode": {
    "name": "ipython",
    "version": 2
   },
   "file_extension": ".py",
   "mimetype": "text/x-python",
   "name": "python",
   "nbconvert_exporter": "python",
   "pygments_lexer": "ipython2",
   "version": "2.7.12"
  }
 },
 "nbformat": 4,
 "nbformat_minor": 0
}
