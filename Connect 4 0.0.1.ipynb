{
 "cells": [
  {
   "cell_type": "code",
   "execution_count": 17,
   "metadata": {
    "collapsed": true
   },
   "outputs": [],
   "source": [
    "import pandas as pd\n",
    "import numpy as np\n",
    "from string import ascii_lowercase\n",
    "import itertools\n",
    "import string\n",
    "from collections import defaultdict\n",
    "import random\n",
    "import matplotlib.pyplot as plt\n",
    "\n",
    "pd.set_option('display.max_columns', 50)\n",
    "\n",
    "%matplotlib inline"
   ]
  },
  {
   "cell_type": "markdown",
   "metadata": {},
   "source": [
    "### Board"
   ]
  },
  {
   "cell_type": "code",
   "execution_count": 18,
   "metadata": {
    "collapsed": false
   },
   "outputs": [],
   "source": [
    "def new_game(X_cols):\n",
    "    return pd.Series(0, X_cols)\n",
    "\n",
    "def empty_positions(rows, columns):\n",
    "    return {col:[row for row in rows] for col in columns}"
   ]
  },
  {
   "cell_type": "markdown",
   "metadata": {},
   "source": [
    "### Winning positions"
   ]
  },
  {
   "cell_type": "code",
   "execution_count": 35,
   "metadata": {
    "collapsed": false
   },
   "outputs": [],
   "source": [
    "def rows_and_columns_checked(all_rows, all_columns):\n",
    "    win_type_positions = {}\n",
    "    limit_top_rows = all_rows[:-connect_n + 1]\n",
    "    limit_bottom_rows = all_rows[connect_n - 1:]\n",
    "    limit_right_columns =  all_columns[:-connect_n + 1]\n",
    "    \n",
    "    # create dictionary of win types and a tuple of the rows and columns checked for each win type\n",
    "    for win_type in win_types:\n",
    "        if win_type == 'up':\n",
    "            rows_checked, columns_checked = limit_top_rows, all_columns\n",
    "        elif win_type == 'across':\n",
    "            rows_checked, columns_checked = all_rows, limit_right_columns\n",
    "        elif win_type == 'diag /':\n",
    "            rows_checked, columns_checked = limit_top_rows, limit_right_columns\n",
    "        elif win_type == 'diag \\\\':\n",
    "            rows_checked, columns_checked = limit_bottom_rows, limit_right_columns\n",
    "        else:\n",
    "            raise ValueError('not a valid win type')\n",
    "        win_type_positions[win_type] = rows_checked, columns_checked\n",
    "\n",
    "    # create dictionary of individual row/column positions and a list of their possible win types \n",
    "    positions_win_types_to_check = defaultdict(list)\n",
    "    for win_type, rows_and_columns_to_check in win_type_positions.iteritems():\n",
    "        for positions in itertools.product(rows_and_columns_to_check[0],rows_and_columns_to_check[1]):\n",
    "            row = positions[0]\n",
    "            column = positions[1]\n",
    "            position = column + str(row)\n",
    "            positions_win_types_to_check[position, (row, column)].append(win_type)\n",
    "    return positions_win_types_to_check\n",
    "\n",
    "\n",
    "def win_type_angle(win_type, row_checked, column_checked):\n",
    "\n",
    "    # list row and column positions\n",
    "    if win_type == 'up':\n",
    "        angle_column_positions = list(column_checked) * connect_n\n",
    "        angle_row_positions = list(map(str, range(row_checked, row_checked + connect_n)))\n",
    "    elif win_type == 'across':\n",
    "        angle_column_positions = list(map(chr, range(ord(column_checked), ord(column_checked) + connect_n)))\n",
    "        angle_row_positions = list(str(row_checked)) * connect_n\n",
    "    elif win_type == 'diag /':\n",
    "        angle_column_positions = list(map(chr, range(ord(column_checked), ord(column_checked) + connect_n)))\n",
    "        angle_row_positions = list(map(str, range(row_checked, row_checked + connect_n)))\n",
    "    elif win_type == 'diag \\\\':\n",
    "        angle_column_positions = list(map(chr, range(ord(column_checked), ord(column_checked) + connect_n)))\n",
    "        angle_row_positions = list(map(str, range(row_checked, row_checked - connect_n, -1)))\n",
    "    else:\n",
    "        raise ValueError('not a valid win type')\n",
    "\n",
    "    # combine postitions\n",
    "    return [column + row for column, row in zip(angle_column_positions, angle_row_positions)]\n",
    "\n",
    "\n",
    "def get_winning_positions(positions_win_types_to_check):\n",
    "    winning_positions = defaultdict(list)\n",
    "    for position, position_win_types in positions_win_types_to_check.iteritems():\n",
    "        row = position[1][0]\n",
    "        column = position[1][1]\n",
    "        for win_type in position_win_types:\n",
    "            additional_positions_to_check = win_type_angle(win_type, row, column)\n",
    "            winning_positions[position[0]].append((win_type, additional_positions_to_check))\n",
    "    return winning_positions"
   ]
  },
  {
   "cell_type": "markdown",
   "metadata": {},
   "source": [
    "### Check for win"
   ]
  },
  {
   "cell_type": "code",
   "execution_count": 36,
   "metadata": {
    "collapsed": true
   },
   "outputs": [],
   "source": [
    "def determine_player(game_move_count):\n",
    "    player_choice = (game_move_count + 1) % 2\n",
    "    player_choice *= 2\n",
    "    player_choice -= 1\n",
    "    return player_choice\n",
    "\n",
    "\n",
    "def available_moves(player, remaining_empty_positions):\n",
    "    return [col + str(rows[0]) for col, rows in remaining_empty_positions.iteritems() if rows != list()]\n",
    "\n",
    "\n",
    "def remove_empty_position(choosen_move, remaining_empty_positions):\n",
    "    remaining_empty_positions[choosen_move[0]].pop(0)\n",
    "    return remaining_empty_positions\n",
    "\n",
    "\n",
    "def check_positions(game):\n",
    "    return game[game != 0].index\n",
    "\n",
    "\n",
    "def obvious_win(game, remaining_empty_positions, winning_positions, player):\n",
    "    # has_best_move  BOOLEAN\n",
    "    # move_to_make   STRING board_position OR NULL\n",
    "    for board_position in check_positions(game):\n",
    "        for win_type_angle in winning_positions[board_position]:\n",
    "            game_positions_of_win_type_angle = game[win_type_angle[1]]\n",
    "            win_type_angle_status = game[win_type_angle[1]].value_counts()\n",
    "            if len(win_type_angle_status) == 2 and 0 in win_type_angle_status.index and player in win_type_angle_status.index:\n",
    "                if win_type_angle_status.loc[0] == 1 and win_type_angle_status.loc[player] == 3:\n",
    "                    winning_move = game_positions_of_win_type_angle[game_positions_of_win_type_angle == 0].index[0]\n",
    "                    if winning_move in available_moves(player, remaining_empty_positions):\n",
    "                        return True, winning_move\n",
    "    return False, None\n",
    "\n",
    "\n",
    "def predict_best_move(game, remaining_empty_positions, winning_positions, player):\n",
    "    return random.choice(available_moves(player, remaining_empty_positions))\n",
    "\n",
    "\n",
    "def choose_move(game, remaining_empty_positions, winning_positions, player):\n",
    "    # new_board_positions  DICT all board positions\n",
    "    has_obvious_win = obvious_win(game, remaining_empty_positions, winning_positions, player) \n",
    "    if has_obvious_win[0] == True:\n",
    "        choosen_move = has_obvious_win[1]\n",
    "        has_won_game = True\n",
    "    else:\n",
    "        choosen_move = predict_best_move(game, remaining_empty_positions, winning_positions, player)\n",
    "        has_won_game = False\n",
    "    return (choosen_move, has_won_game)\n",
    "\n",
    "\n",
    "def determine_new_board_positions(game, choosen_move, player):\n",
    "    game[choosen_move] = player\n",
    "    return game"
   ]
  },
  {
   "cell_type": "code",
   "execution_count": 44,
   "metadata": {
    "collapsed": false
   },
   "outputs": [],
   "source": [
    "def play_game(game, remaining_empty_positions,winning_positions):\n",
    "    game = new_game(X_cols)\n",
    "    remaining_empty_positions = empty_positions(rows, columns)\n",
    "    for game_move_count in range(len(game)):\n",
    "        player = determine_player(game_move_count)\n",
    "        choosen_move, has_won_game = choose_move(game, remaining_empty_positions, winning_positions, player)\n",
    "        game = determine_new_board_positions(game, choosen_move, player)\n",
    "        remaining_empty_positions = remove_empty_position(choosen_move, remaining_empty_positions)\n",
    "        if has_won_game == True:\n",
    "            return (player, game)"
   ]
  },
  {
   "cell_type": "code",
   "execution_count": 45,
   "metadata": {
    "collapsed": true
   },
   "outputs": [],
   "source": [
    "connect_n = 4\n",
    "board_height = 6\n",
    "board_width = 7 # max 26\n",
    "columns = [column for column in ascii_lowercase[:board_width]]\n",
    "rows = [row for row in range(board_height)]\n",
    "X_cols = []\n",
    "for column in ascii_lowercase[:board_width]:\n",
    "    for row in range(board_height):\n",
    "        X_cols.append(column + str(row))"
   ]
  },
  {
   "cell_type": "code",
   "execution_count": 46,
   "metadata": {
    "collapsed": false
   },
   "outputs": [],
   "source": [
    "np.random.seed(seed = 1)\n",
    "X_rand = pd.DataFrame(np.random.randint(3, size=(1000, len(X_cols)), ), columns=X_cols) - 1\n",
    "win_types = ['up', 'across', 'diag /', 'diag \\\\']\n",
    "del win_type"
   ]
  },
  {
   "cell_type": "code",
   "execution_count": 48,
   "metadata": {
    "collapsed": false
   },
   "outputs": [],
   "source": [
    "positions_win_types_to_check = rows_and_columns_checked(rows, columns)\n",
    "winning_positions = get_winning_positions(positions_win_types_to_check)"
   ]
  },
  {
   "cell_type": "code",
   "execution_count": 50,
   "metadata": {
    "collapsed": false
   },
   "outputs": [
    {
     "data": {
      "text/plain": [
       "defaultdict(<type 'list'>, {'f0': [('up', ['f0', 'f1', 'f2', 'f3'])], 'f1': [('up', ['f1', 'f2', 'f3', 'f4'])], 'f2': [('up', ['f2', 'f3', 'f4', 'f5'])], 'b4': [('diag \\\\', ['b4', 'c3', 'd2', 'e1']), ('across', ['b4', 'c4', 'd4', 'e4'])], 'b5': [('diag \\\\', ['b5', 'c4', 'd3', 'e2']), ('across', ['b5', 'c5', 'd5', 'e5'])], 'b0': [('diag /', ['b0', 'c1', 'd2', 'e3']), ('up', ['b0', 'b1', 'b2', 'b3']), ('across', ['b0', 'c0', 'd0', 'e0'])], 'b1': [('diag /', ['b1', 'c2', 'd3', 'e4']), ('up', ['b1', 'b2', 'b3', 'b4']), ('across', ['b1', 'c1', 'd1', 'e1'])], 'b2': [('diag /', ['b2', 'c3', 'd4', 'e5']), ('up', ['b2', 'b3', 'b4', 'b5']), ('across', ['b2', 'c2', 'd2', 'e2'])], 'b3': [('diag \\\\', ['b3', 'c2', 'd1', 'e0']), ('across', ['b3', 'c3', 'd3', 'e3'])], 'd4': [('diag \\\\', ['d4', 'e3', 'f2', 'g1']), ('across', ['d4', 'e4', 'f4', 'g4'])], 'd5': [('diag \\\\', ['d5', 'e4', 'f3', 'g2']), ('across', ['d5', 'e5', 'f5', 'g5'])], 'd2': [('diag /', ['d2', 'e3', 'f4', 'g5']), ('up', ['d2', 'd3', 'd4', 'd5']), ('across', ['d2', 'e2', 'f2', 'g2'])], 'd3': [('diag \\\\', ['d3', 'e2', 'f1', 'g0']), ('across', ['d3', 'e3', 'f3', 'g3'])], 'd0': [('diag /', ['d0', 'e1', 'f2', 'g3']), ('up', ['d0', 'd1', 'd2', 'd3']), ('across', ['d0', 'e0', 'f0', 'g0'])], 'd1': [('diag /', ['d1', 'e2', 'f3', 'g4']), ('up', ['d1', 'd2', 'd3', 'd4']), ('across', ['d1', 'e1', 'f1', 'g1'])], 'e2': [('up', ['e2', 'e3', 'e4', 'e5'])], 'g2': [('up', ['g2', 'g3', 'g4', 'g5'])], 'g1': [('up', ['g1', 'g2', 'g3', 'g4'])], 'g0': [('up', ['g0', 'g1', 'g2', 'g3'])], 'a1': [('diag /', ['a1', 'b2', 'c3', 'd4']), ('up', ['a1', 'a2', 'a3', 'a4']), ('across', ['a1', 'b1', 'c1', 'd1'])], 'a0': [('diag /', ['a0', 'b1', 'c2', 'd3']), ('up', ['a0', 'a1', 'a2', 'a3']), ('across', ['a0', 'b0', 'c0', 'd0'])], 'a3': [('diag \\\\', ['a3', 'b2', 'c1', 'd0']), ('across', ['a3', 'b3', 'c3', 'd3'])], 'a2': [('diag /', ['a2', 'b3', 'c4', 'd5']), ('up', ['a2', 'a3', 'a4', 'a5']), ('across', ['a2', 'b2', 'c2', 'd2'])], 'a5': [('diag \\\\', ['a5', 'b4', 'c3', 'd2']), ('across', ['a5', 'b5', 'c5', 'd5'])], 'a4': [('diag \\\\', ['a4', 'b3', 'c2', 'd1']), ('across', ['a4', 'b4', 'c4', 'd4'])], 'c3': [('diag \\\\', ['c3', 'd2', 'e1', 'f0']), ('across', ['c3', 'd3', 'e3', 'f3'])], 'c2': [('diag /', ['c2', 'd3', 'e4', 'f5']), ('up', ['c2', 'c3', 'c4', 'c5']), ('across', ['c2', 'd2', 'e2', 'f2'])], 'c1': [('diag /', ['c1', 'd2', 'e3', 'f4']), ('up', ['c1', 'c2', 'c3', 'c4']), ('across', ['c1', 'd1', 'e1', 'f1'])], 'c0': [('diag /', ['c0', 'd1', 'e2', 'f3']), ('up', ['c0', 'c1', 'c2', 'c3']), ('across', ['c0', 'd0', 'e0', 'f0'])], 'e1': [('up', ['e1', 'e2', 'e3', 'e4'])], 'e0': [('up', ['e0', 'e1', 'e2', 'e3'])], 'c5': [('diag \\\\', ['c5', 'd4', 'e3', 'f2']), ('across', ['c5', 'd5', 'e5', 'f5'])], 'c4': [('diag \\\\', ['c4', 'd3', 'e2', 'f1']), ('across', ['c4', 'd4', 'e4', 'f4'])]})"
      ]
     },
     "execution_count": 50,
     "metadata": {},
     "output_type": "execute_result"
    }
   ],
   "source": [
    "winning_positions"
   ]
  },
  {
   "cell_type": "code",
   "execution_count": 32,
   "metadata": {
    "collapsed": true
   },
   "outputs": [],
   "source": [
    "random.seed(0)\n",
    "# all_cols = X_cols.append(\"Winner\")\n",
    "df = pd.DataFrame(columns = X_cols)"
   ]
  },
  {
   "cell_type": "code",
   "execution_count": 412,
   "metadata": {
    "collapsed": true
   },
   "outputs": [],
   "source": [
    "number_of_games = 1000"
   ]
  },
  {
   "cell_type": "code",
   "execution_count": 414,
   "metadata": {
    "collapsed": false
   },
   "outputs": [
    {
     "name": "stdout",
     "output_type": "stream",
     "text": [
      "CPU times: user 3min 25s, sys: 1.07 s, total: 3min 26s\n",
      "Wall time: 3min 26s\n"
     ]
    }
   ],
   "source": [
    "%%time\n",
    "for game_number in range(number_of_games):\n",
    "    winner, game_result = play_game(game, remaining_empty_positions, winning_positions)\n",
    "    game_info = game_result.append(pd.Series(winner, index = ['Winner']))\n",
    "    df = df.append(game_info, ignore_index=True)\n",
    "    df = df.append(game_info * -1, ignore_index=True)"
   ]
  },
  {
   "cell_type": "code",
   "execution_count": 421,
   "metadata": {
    "collapsed": false
   },
   "outputs": [
    {
     "name": "stdout",
     "output_type": "stream",
     "text": [
      "CPU times: user 1.45 s, sys: 22.7 ms, total: 1.47 s\n",
      "Wall time: 1.46 s\n"
     ]
    }
   ],
   "source": [
    "%%time\n",
    "for game_number in range(10):\n",
    "    winner, game_result = play_game(game, remaining_empty_positions, winning_positions)\n",
    "    game_info = game_result.append(pd.Series(winner, index = ['Winner']))\n",
    "    df = df.append(game_info, ignore_index=True)\n",
    "    df = df.append(game_info * -1, ignore_index=True)"
   ]
  },
  {
   "cell_type": "code",
   "execution_count": 429,
   "metadata": {
    "collapsed": false
   },
   "outputs": [
    {
     "data": {
      "text/plain": [
       " 1    681\n",
       "-1    440\n",
       "dtype: int64"
      ]
     },
     "execution_count": 429,
     "metadata": {},
     "output_type": "execute_result"
    }
   ],
   "source": [
    "df[df.index.map(lambda x: x % 2) == 0].Winner.value_counts()"
   ]
  },
  {
   "cell_type": "code",
   "execution_count": 430,
   "metadata": {
    "collapsed": false
   },
   "outputs": [
    {
     "data": {
      "text/plain": [
       "681.0"
      ]
     },
     "execution_count": 430,
     "metadata": {},
     "output_type": "execute_result"
    }
   ],
   "source": [
    "df[df.index.map(lambda x: x % 2) == 0].loc[:,:'g5'].sum(axis = 1).sum()"
   ]
  },
  {
   "cell_type": "code",
   "execution_count": 427,
   "metadata": {
    "collapsed": false
   },
   "outputs": [],
   "source": [
    "moves_per_game = (df.loc[:,:'g5'] != 0).sum(axis = 1).value_counts().sort_index()"
   ]
  },
  {
   "cell_type": "code",
   "execution_count": 428,
   "metadata": {
    "collapsed": false
   },
   "outputs": [
    {
     "data": {
      "text/plain": [
       "<matplotlib.axes._subplots.AxesSubplot at 0x110b56f10>"
      ]
     },
     "execution_count": 428,
     "metadata": {},
     "output_type": "execute_result"
    },
    {
     "data": {
      "image/png": "[encoded data removed]",
      "text/plain": [
       "<matplotlib.figure.Figure at 0x110b69390>"
      ]
     },
     "metadata": {},
     "output_type": "display_data"
    }
   ],
   "source": [
    "moves_per_game.plot(kind = 'bar')"
   ]
  },
  {
   "cell_type": "code",
   "execution_count": null,
   "metadata": {
    "collapsed": true
   },
   "outputs": [],
   "source": []
  },
  {
   "cell_type": "code",
   "execution_count": null,
   "metadata": {
    "collapsed": true
   },
   "outputs": [],
   "source": []
  },
  {
   "cell_type": "code",
   "execution_count": null,
   "metadata": {
    "collapsed": true
   },
   "outputs": [],
   "source": []
  },
  {
   "cell_type": "code",
   "execution_count": null,
   "metadata": {
    "collapsed": true
   },
   "outputs": [],
   "source": []
  }
 ],
 "metadata": {
  "kernelspec": {
   "display_name": "Python 2",
   "language": "python",
   "name": "python2"
  },
  "language_info": {
   "codemirror_mode": {
    "name": "ipython",
    "version": 2
   },
   "file_extension": ".py",
   "mimetype": "text/x-python",
   "name": "python",
   "nbconvert_exporter": "python",
   "pygments_lexer": "ipython2",
   "version": "2.7.12"
  }
 },
 "nbformat": 4,
 "nbformat_minor": 0
}
