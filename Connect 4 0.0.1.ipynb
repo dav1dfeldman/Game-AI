{
 "cells": [
  {
   "cell_type": "code",
   "execution_count": 331,
   "metadata": {
    "collapsed": true
   },
   "outputs": [],
   "source": [
    "import pandas as pd\n",
    "import numpy as np\n",
    "from string import ascii_lowercase\n",
    "import itertools\n",
    "import string\n",
    "from collections import defaultdict\n",
    "\n",
    "pd.set_option('display.max_columns', 50)"
   ]
  },
  {
   "cell_type": "markdown",
   "metadata": {},
   "source": [
    "### Board"
   ]
  },
  {
   "cell_type": "code",
   "execution_count": 332,
   "metadata": {
    "collapsed": true
   },
   "outputs": [],
   "source": [
    "connect_n = 4\n",
    "board_height = 6\n",
    "board_width = 7 # max 26"
   ]
  },
  {
   "cell_type": "code",
   "execution_count": 333,
   "metadata": {
    "collapsed": false
   },
   "outputs": [],
   "source": [
    "columns = [column for column in ascii_lowercase[:board_width]]\n",
    "rows = [row for row in range(board_height)]"
   ]
  },
  {
   "cell_type": "code",
   "execution_count": 334,
   "metadata": {
    "collapsed": false
   },
   "outputs": [],
   "source": [
    "X_cols = []\n",
    "for column in ascii_lowercase[:board_width]:\n",
    "    for row in range(board_height):\n",
    "        X_cols.append(column + str(row))"
   ]
  },
  {
   "cell_type": "code",
   "execution_count": 335,
   "metadata": {
    "collapsed": false
   },
   "outputs": [],
   "source": [
    "def new_game(X_cols):\n",
    "    return pd.Series(0, X_cols)"
   ]
  },
  {
   "cell_type": "code",
   "execution_count": 336,
   "metadata": {
    "collapsed": true
   },
   "outputs": [],
   "source": [
    "def empty_positions(rows, columns):\n",
    "    return {col:[row for row in rows] for col in columns}"
   ]
  },
  {
   "cell_type": "markdown",
   "metadata": {},
   "source": [
    "### Winning positions"
   ]
  },
  {
   "cell_type": "code",
   "execution_count": 337,
   "metadata": {
    "collapsed": false
   },
   "outputs": [],
   "source": [
    "np.random.seed(seed = 1)\n",
    "X_rand = pd.DataFrame(np.random.randint(3, size=(1000, len(X_cols)), ), columns=X_cols) - 1\n",
    "win_types = ['up', 'across', 'diag /', 'diag \\\\']\n",
    "win_type = 'diag \\\\'"
   ]
  },
  {
   "cell_type": "code",
   "execution_count": 338,
   "metadata": {
    "collapsed": false
   },
   "outputs": [],
   "source": [
    "def rows_and_columns_checked(win_type, all_rows, all_columns):\n",
    "    win_type_positions = {}\n",
    "    limit_top_rows = all_rows[:-connect_n + 1]\n",
    "    limit_bottom_rows = all_rows[connect_n - 1:]\n",
    "    limit_right_columns =  all_columns[:-connect_n + 1]\n",
    "    \n",
    "    # create dictionary of win types and a tuple of the rows and columns checked for each win type\n",
    "    for win_type in win_types:\n",
    "        if win_type == 'up':\n",
    "            rows_checked, columns_checked = limit_top_rows, all_columns\n",
    "        elif win_type == 'across':\n",
    "            rows_checked, columns_checked = all_rows, limit_right_columns\n",
    "        elif win_type == 'diag /':\n",
    "            rows_checked, columns_checked = limit_top_rows, limit_right_columns\n",
    "        elif win_type == 'diag \\\\':\n",
    "            rows_checked, columns_checked = limit_bottom_rows, limit_right_columns\n",
    "        else:\n",
    "            raise ValueError('not a valid win type')\n",
    "        win_type_positions[win_type] = rows_checked, columns_checked\n",
    "\n",
    "    # create dictionary of individual row/column positions and a list of their possible win types \n",
    "    positions_win_types_to_check = defaultdict(list)\n",
    "    for win_type, rows_and_columns_to_check in win_type_positions.iteritems():\n",
    "        for positions in itertools.product(rows_and_columns_to_check[0],rows_and_columns_to_check[1]):\n",
    "            row = positions[0]\n",
    "            column = positions[1]\n",
    "            position = column + str(row)\n",
    "            positions_win_types_to_check[position, (row, column)].append(win_type)\n",
    "    return positions_win_types_to_check"
   ]
  },
  {
   "cell_type": "code",
   "execution_count": 339,
   "metadata": {
    "collapsed": true
   },
   "outputs": [],
   "source": [
    "def win_type_angle(win_type, row_checked, column_checked):\n",
    "\n",
    "    # list row and column positions\n",
    "    if win_type == 'up':\n",
    "        angle_column_positions = list(column_checked) * connect_n\n",
    "        angle_row_positions = list(map(str, range(row_checked, row_checked + connect_n)))\n",
    "    elif win_type == 'across':\n",
    "        angle_column_positions = list(map(chr, range(ord(column_checked), ord(column_checked) + connect_n)))\n",
    "        angle_row_positions = list(str(row_checked)) * connect_n\n",
    "    elif win_type == 'diag /':\n",
    "        angle_column_positions = list(map(chr, range(ord(column_checked), ord(column_checked) + connect_n)))\n",
    "        angle_row_positions = list(map(str, range(row_checked, row_checked + connect_n)))\n",
    "    elif win_type == 'diag \\\\':\n",
    "        angle_column_positions = list(map(chr, range(ord(column_checked), ord(column_checked) + connect_n)))\n",
    "        angle_row_positions = list(map(str, range(row_checked, row_checked - connect_n, -1)))\n",
    "    else:\n",
    "        raise ValueError('not a valid win type')\n",
    "\n",
    "    # combine postitions\n",
    "    return [column + row for column, row in zip(angle_column_positions, angle_row_positions)]"
   ]
  },
  {
   "cell_type": "code",
   "execution_count": 340,
   "metadata": {
    "collapsed": false
   },
   "outputs": [],
   "source": [
    "def get_winning_positions(positions_win_types_to_check):\n",
    "    winning_positions = defaultdict(list)\n",
    "    for position, position_win_types in positions_win_types_to_check.iteritems():\n",
    "        row = position[1][0]\n",
    "        column = position[1][1]\n",
    "        for win_type in position_win_types:\n",
    "            additional_positions_to_check = win_type_angle(win_type, row, column)\n",
    "            winning_positions[position[0]].append((win_type, additional_positions_to_check))\n",
    "    return winning_positions"
   ]
  },
  {
   "cell_type": "code",
   "execution_count": 341,
   "metadata": {
    "collapsed": false
   },
   "outputs": [],
   "source": [
    "positions_win_types_to_check = rows_and_columns_checked(win_type, rows, columns)"
   ]
  },
  {
   "cell_type": "code",
   "execution_count": 342,
   "metadata": {
    "collapsed": false
   },
   "outputs": [],
   "source": [
    "winning_positions = get_winning_positions(positions_win_types_to_check)"
   ]
  },
  {
   "cell_type": "markdown",
   "metadata": {},
   "source": [
    "### Check for win"
   ]
  },
  {
   "cell_type": "code",
   "execution_count": 343,
   "metadata": {
    "collapsed": false
   },
   "outputs": [],
   "source": [
    "game = new_game(X_cols)"
   ]
  },
  {
   "cell_type": "code",
   "execution_count": 344,
   "metadata": {
    "collapsed": false
   },
   "outputs": [],
   "source": [
    "remaining_empty_positions = empty_positions(rows, columns)"
   ]
  },
  {
   "cell_type": "code",
   "execution_count": 346,
   "metadata": {
    "collapsed": true
   },
   "outputs": [],
   "source": [
    "player = -1"
   ]
  },
  {
   "cell_type": "code",
   "execution_count": 347,
   "metadata": {
    "collapsed": false
   },
   "outputs": [],
   "source": [
    "def available_moves(player, remaining_empty_positions):\n",
    "    return [col + str(rows[0]) for col, rows in remaining_empty_positions.iteritems()]"
   ]
  },
  {
   "cell_type": "code",
   "execution_count": 348,
   "metadata": {
    "collapsed": true
   },
   "outputs": [],
   "source": [
    "def remove_empty_position(col, remaining_empty_positions):\n",
    "    remaining_empty_positions[col].pop(0)\n",
    "    return remaining_empty_positions"
   ]
  },
  {
   "cell_type": "code",
   "execution_count": 349,
   "metadata": {
    "collapsed": true
   },
   "outputs": [],
   "source": [
    "def check_positions(game):\n",
    "    return game[game != 0].index"
   ]
  },
  {
   "cell_type": "code",
   "execution_count": 374,
   "metadata": {
    "collapsed": false
   },
   "outputs": [],
   "source": [
    "def obvious_win(game, remaining_empty_positions, winning_positions, player):\n",
    "    # has_best_move  BOOLEAN\n",
    "    # move_to_make   STRING board_position OR NULL\n",
    "    for board_position in check_positions(game):\n",
    "        for win_type_angle in winning_positions[board_position]:\n",
    "            game_positions_of_win_type_angle = game[win_type_angle[1]]\n",
    "            win_type_angle_status = game[win_type_angle[1]].value_counts()\n",
    "            if len(win_type_angle_status) == 2 and 0 in win_type_angle_status.index and player in win_type_angle_status.index:\n",
    "                if win_type_angle_status.loc[0] == 1 and win_type_angle_status.loc[player] == 3:\n",
    "                    winning_move = game_positions_of_win_type_angle[game_positions_of_win_type_angle == 0].index[0]\n",
    "                    if winning_move in available_moves(player, remaining_empty_positions):\n",
    "                        return True, winning_move\n",
    "    return False, None"
   ]
  },
  {
   "cell_type": "code",
   "execution_count": 351,
   "metadata": {
    "collapsed": true
   },
   "outputs": [],
   "source": [
    "game = X_rand.iloc[6]"
   ]
  },
  {
   "cell_type": "code",
   "execution_count": 364,
   "metadata": {
    "collapsed": false
   },
   "outputs": [],
   "source": [
    "remaining_empty_positions = remove_empty_position('d', remaining_empty_positions)"
   ]
  },
  {
   "cell_type": "code",
   "execution_count": 371,
   "metadata": {
    "collapsed": false
   },
   "outputs": [
    {
     "data": {
      "text/plain": [
       "(False, None)"
      ]
     },
     "execution_count": 371,
     "metadata": {},
     "output_type": "execute_result"
    }
   ],
   "source": [
    "obvious_win(game, remaining_empty_positions, winning_positions, player)"
   ]
  },
  {
   "cell_type": "code",
   "execution_count": 372,
   "metadata": {
    "collapsed": false
   },
   "outputs": [
    {
     "data": {
      "text/plain": [
       "Index([u'a0', u'a1', u'a2', u'a3', u'a4', u'a5', u'b1', u'b2', u'b3', u'b4',\n",
       "       u'b5', u'c2', u'c3', u'c4', u'd0', u'd2', u'd4', u'd5', u'e0', u'e1',\n",
       "       u'e2', u'e3', u'e5', u'f0', u'f1', u'f2', u'f4', u'f5', u'g0', u'g1',\n",
       "       u'g2', u'g4', u'g5'],\n",
       "      dtype='object')"
      ]
     },
     "execution_count": 372,
     "metadata": {},
     "output_type": "execute_result"
    }
   ],
   "source": [
    "positions_to_check(game)"
   ]
  },
  {
   "cell_type": "code",
   "execution_count": 50,
   "metadata": {
    "collapsed": false
   },
   "outputs": [
    {
     "data": {
      "text/html": [
       "<div>\n",
       "<table border=\"1\" class=\"dataframe\">\n",
       "  <thead>\n",
       "    <tr style=\"text-align: right;\">\n",
       "      <th></th>\n",
       "      <th>a0</th>\n",
       "      <th>a1</th>\n",
       "      <th>a2</th>\n",
       "      <th>a3</th>\n",
       "      <th>a4</th>\n",
       "      <th>a5</th>\n",
       "      <th>b0</th>\n",
       "      <th>b1</th>\n",
       "      <th>b2</th>\n",
       "      <th>b3</th>\n",
       "      <th>b4</th>\n",
       "      <th>b5</th>\n",
       "      <th>c0</th>\n",
       "      <th>c1</th>\n",
       "      <th>c2</th>\n",
       "      <th>c3</th>\n",
       "      <th>c4</th>\n",
       "      <th>c5</th>\n",
       "      <th>d0</th>\n",
       "      <th>d1</th>\n",
       "      <th>d2</th>\n",
       "      <th>d3</th>\n",
       "      <th>d4</th>\n",
       "      <th>d5</th>\n",
       "      <th>e0</th>\n",
       "      <th>e1</th>\n",
       "      <th>e2</th>\n",
       "      <th>e3</th>\n",
       "      <th>e4</th>\n",
       "      <th>e5</th>\n",
       "      <th>f0</th>\n",
       "      <th>f1</th>\n",
       "      <th>f2</th>\n",
       "      <th>f3</th>\n",
       "      <th>f4</th>\n",
       "      <th>f5</th>\n",
       "      <th>g0</th>\n",
       "      <th>g1</th>\n",
       "      <th>g2</th>\n",
       "      <th>g3</th>\n",
       "      <th>g4</th>\n",
       "      <th>g5</th>\n",
       "    </tr>\n",
       "  </thead>\n",
       "  <tbody>\n",
       "    <tr>\n",
       "      <th>0</th>\n",
       "      <td>0</td>\n",
       "      <td>0</td>\n",
       "      <td>0</td>\n",
       "      <td>0</td>\n",
       "      <td>0</td>\n",
       "      <td>0</td>\n",
       "      <td>0</td>\n",
       "      <td>0</td>\n",
       "      <td>0</td>\n",
       "      <td>0</td>\n",
       "      <td>0</td>\n",
       "      <td>0</td>\n",
       "      <td>0</td>\n",
       "      <td>0</td>\n",
       "      <td>0</td>\n",
       "      <td>0</td>\n",
       "      <td>0</td>\n",
       "      <td>0</td>\n",
       "      <td>0</td>\n",
       "      <td>0</td>\n",
       "      <td>0</td>\n",
       "      <td>0</td>\n",
       "      <td>0</td>\n",
       "      <td>0</td>\n",
       "      <td>0</td>\n",
       "      <td>0</td>\n",
       "      <td>0</td>\n",
       "      <td>0</td>\n",
       "      <td>0</td>\n",
       "      <td>0</td>\n",
       "      <td>0</td>\n",
       "      <td>0</td>\n",
       "      <td>0</td>\n",
       "      <td>0</td>\n",
       "      <td>0</td>\n",
       "      <td>0</td>\n",
       "      <td>0</td>\n",
       "      <td>0</td>\n",
       "      <td>0</td>\n",
       "      <td>0</td>\n",
       "      <td>0</td>\n",
       "      <td>0</td>\n",
       "    </tr>\n",
       "  </tbody>\n",
       "</table>\n",
       "</div>"
      ],
      "text/plain": [
       "   a0  a1  a2  a3  a4  a5  b0  b1  b2  b3  b4  b5  c0  c1  c2  c3  c4  c5  d0  \\\n",
       "0   0   0   0   0   0   0   0   0   0   0   0   0   0   0   0   0   0   0   0   \n",
       "\n",
       "   d1  d2  d3  d4  d5  e0  e1  e2  e3  e4  e5  f0  f1  f2  f3  f4  f5  g0  g1  \\\n",
       "0   0   0   0   0   0   0   0   0   0   0   0   0   0   0   0   0   0   0   0   \n",
       "\n",
       "   g2  g3  g4  g5  \n",
       "0   0   0   0   0  "
      ]
     },
     "execution_count": 50,
     "metadata": {},
     "output_type": "execute_result"
    }
   ],
   "source": [
    "df_new_game"
   ]
  },
  {
   "cell_type": "code",
   "execution_count": null,
   "metadata": {
    "collapsed": true
   },
   "outputs": [],
   "source": [
    "def make_move(move_to_make, player):\n",
    "    # new_board_positions  DICT all board positions\n",
    "    return new_board_positions"
   ]
  },
  {
   "cell_type": "code",
   "execution_count": null,
   "metadata": {
    "collapsed": true
   },
   "outputs": [],
   "source": [
    "def evaluate_moves(player):\n",
    "    # move_to_make   STRING board_position OR NULL\n",
    "    return move_to_make"
   ]
  },
  {
   "cell_type": "code",
   "execution_count": null,
   "metadata": {
    "collapsed": true
   },
   "outputs": [],
   "source": [
    "def check_for_win(new_board_positions, player):\n",
    "    # player    INT 1 or -1 \n",
    "    # position  STRING board_position\n",
    "    # win_type  STRING 'up, across, etc.\n",
    "    \n",
    "    return (player, position, win_type)"
   ]
  },
  {
   "cell_type": "code",
   "execution_count": null,
   "metadata": {
    "collapsed": true
   },
   "outputs": [],
   "source": [
    "def make_move(player):\n",
    "    # check for obvious wins\n",
    "    has_best_move, move_to_make = obvious_win(player)\n",
    "    if has_best_move = True:\n",
    "        new_board_positions = make_move(move_to_make, player)\n",
    "    # evaluate possible next moves\n",
    "    else:\n",
    "        move_to_make = evaluate_moves(player)\n",
    "        new_board_positions = make_move(move_to_make, player)\n",
    "    # check for win\n",
    "    return check_for_win(new_board_positions, player)"
   ]
  },
  {
   "cell_type": "code",
   "execution_count": 27,
   "metadata": {
    "collapsed": true
   },
   "outputs": [],
   "source": [
    "np.random.seed(seed = 1)\n",
    "X_rand = pd.DataFrame(np.random.randint(3, size=(1000, len(X_cols)), ), columns=X_cols) - 1"
   ]
  },
  {
   "cell_type": "code",
   "execution_count": 28,
   "metadata": {
    "collapsed": false
   },
   "outputs": [
    {
     "name": "stdout",
     "output_type": "stream",
     "text": [
      "1 -1 | wins in b5 position | with a diag \\ win type\n",
      "1 -1 | wins in c4 position | with a diag \\ win type\n",
      "1 -1 | wins in d3 position | with a diag \\ win type\n",
      "2 -1 | wins in d3 position | with a across win type\n",
      "2 -1 | wins in d5 position | with a diag \\ win type\n",
      "2 -1 | wins in g2 position | with a up win type\n",
      "3 1 | wins in a5 position | with a diag \\ win type\n",
      "3 1 | wins in a5 position | with a across win type\n",
      "3 1 | wins in b4 position | with a diag \\ win type\n",
      "5 -1 | wins in a0 position | with a across win type\n",
      "5 1 | wins in e0 position | with a up win type\n",
      "5 -1 | wins in f2 position | with a up win type\n",
      "6 -1 | wins in b1 position | with a up win type\n",
      "8 1 | wins in a5 position | with a diag \\ win type\n",
      "9 -1 | wins in c0 position | with a across win type\n",
      "9 1 | wins in f1 position | with a up win type\n"
     ]
    }
   ],
   "source": [
    "winning_info = {}\n",
    "for idx, board_positions in X_rand[:10].iterrows():\n",
    "    winning_info[idx] = 0\n",
    "    for position, token in board_positions[board_positions.isin([-1, 1])].iteritems():\n",
    "        for win_type, positions in winning_positions[position]:\n",
    "            if board_positions[positions].map(lambda x: x == token).all():\n",
    "                winning_info[idx] = token\n",
    "                print str(idx) + ' {} | wins in {} position | with a {} win type'.format(token, position, win_type)"
   ]
  },
  {
   "cell_type": "code",
   "execution_count": 13,
   "metadata": {
    "collapsed": false
   },
   "outputs": [],
   "source": [
    "initial_example = X_rand.loc[6:8]"
   ]
  },
  {
   "cell_type": "code",
   "execution_count": 35,
   "metadata": {
    "collapsed": false
   },
   "outputs": [
    {
     "data": {
      "text/plain": [
       "{'a0': {6: 1, 7: -1}, 'a1': {6: 1, 7: -1}, 'a2': {6: 1, 7: -1}}"
      ]
     },
     "execution_count": 35,
     "metadata": {},
     "output_type": "execute_result"
    }
   ],
   "source": [
    "initial_example.iloc[:2, :3].to_dict()"
   ]
  },
  {
   "cell_type": "code",
   "execution_count": null,
   "metadata": {
    "collapsed": true
   },
   "outputs": [],
   "source": []
  },
  {
   "cell_type": "code",
   "execution_count": 15,
   "metadata": {
    "collapsed": false
   },
   "outputs": [
    {
     "data": {
      "text/plain": [
       "{6: -1, 7: 0, 8: 1}"
      ]
     },
     "execution_count": 15,
     "metadata": {},
     "output_type": "execute_result"
    }
   ],
   "source": [
    "dict((k, winning_info[k]) for k in (6, 7, 8))"
   ]
  },
  {
   "cell_type": "code",
   "execution_count": 16,
   "metadata": {
    "collapsed": false
   },
   "outputs": [
    {
     "ename": "SyntaxError",
     "evalue": "invalid syntax (<ipython-input-16-c2673684f405>, line 1)",
     "output_type": "error",
     "traceback": [
      "\u001b[0;36m  File \u001b[0;32m\"<ipython-input-16-c2673684f405>\"\u001b[0;36m, line \u001b[0;32m1\u001b[0m\n\u001b[0;31m    winning_info[]\u001b[0m\n\u001b[0m                 ^\u001b[0m\n\u001b[0;31mSyntaxError\u001b[0m\u001b[0;31m:\u001b[0m invalid syntax\n"
     ]
    }
   ],
   "source": [
    "winning_info[]"
   ]
  },
  {
   "cell_type": "code",
   "execution_count": 142,
   "metadata": {
    "collapsed": false
   },
   "outputs": [
    {
     "data": {
      "text/plain": [
       "a0    1\n",
       "a1    1\n",
       "a2    1\n",
       "a3   -1\n",
       "a4    1\n",
       "a5    1\n",
       "b0    0\n",
       "b1   -1\n",
       "b2   -1\n",
       "b3   -1\n",
       "b4   -1\n",
       "b5    1\n",
       "c0    0\n",
       "c1    0\n",
       "c2   -1\n",
       "c3    1\n",
       "c4    1\n",
       "c5    0\n",
       "d0    1\n",
       "d1    0\n",
       "d2    1\n",
       "d3    0\n",
       "d4    1\n",
       "d5   -1\n",
       "e0   -1\n",
       "e1    1\n",
       "e2    1\n",
       "e3   -1\n",
       "e4    0\n",
       "e5    1\n",
       "f0   -1\n",
       "f1    1\n",
       "f2   -1\n",
       "f3    0\n",
       "f4   -1\n",
       "f5   -1\n",
       "g0    1\n",
       "g1   -1\n",
       "g2    1\n",
       "g3    0\n",
       "g4    1\n",
       "g5   -1\n",
       "Name: 6, dtype: int64"
      ]
     },
     "execution_count": 142,
     "metadata": {},
     "output_type": "execute_result"
    }
   ],
   "source": []
  },
  {
   "cell_type": "code",
   "execution_count": null,
   "metadata": {
    "collapsed": true
   },
   "outputs": [],
   "source": []
  }
 ],
 "metadata": {
  "kernelspec": {
   "display_name": "Python 2",
   "language": "python",
   "name": "python2"
  },
  "language_info": {
   "codemirror_mode": {
    "name": "ipython",
    "version": 2
   },
   "file_extension": ".py",
   "mimetype": "text/x-python",
   "name": "python",
   "nbconvert_exporter": "python",
   "pygments_lexer": "ipython2",
   "version": "2.7.12"
  }
 },
 "nbformat": 4,
 "nbformat_minor": 0
}
