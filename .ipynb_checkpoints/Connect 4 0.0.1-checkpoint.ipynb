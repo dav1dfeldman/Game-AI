{
 "cells": [
  {
   "cell_type": "code",
   "execution_count": 72,
   "metadata": {
    "collapsed": true
   },
   "outputs": [],
   "source": [
    "import pandas as pd\n",
    "import numpy as np\n",
    "from string import ascii_lowercase\n",
    "import itertools\n",
    "import string\n",
    "from collections import defaultdict\n",
    "import random\n",
    "\n",
    "pd.set_option('display.max_columns', 50)"
   ]
  },
  {
   "cell_type": "markdown",
   "metadata": {},
   "source": [
    "### Board"
   ]
  },
  {
   "cell_type": "code",
   "execution_count": 51,
   "metadata": {
    "collapsed": true
   },
   "outputs": [],
   "source": [
    "connect_n = 4\n",
    "board_height = 6\n",
    "board_width = 7 # max 26"
   ]
  },
  {
   "cell_type": "code",
   "execution_count": 52,
   "metadata": {
    "collapsed": false
   },
   "outputs": [],
   "source": [
    "columns = [column for column in ascii_lowercase[:board_width]]\n",
    "rows = [row for row in range(board_height)]"
   ]
  },
  {
   "cell_type": "code",
   "execution_count": 53,
   "metadata": {
    "collapsed": false
   },
   "outputs": [],
   "source": [
    "X_cols = []\n",
    "for column in ascii_lowercase[:board_width]:\n",
    "    for row in range(board_height):\n",
    "        X_cols.append(column + str(row))"
   ]
  },
  {
   "cell_type": "code",
   "execution_count": 54,
   "metadata": {
    "collapsed": false
   },
   "outputs": [],
   "source": [
    "def new_game(X_cols):\n",
    "    return pd.Series(0, X_cols)"
   ]
  },
  {
   "cell_type": "code",
   "execution_count": 55,
   "metadata": {
    "collapsed": true
   },
   "outputs": [],
   "source": [
    "def empty_positions(rows, columns):\n",
    "    return {col:[row for row in rows] for col in columns}"
   ]
  },
  {
   "cell_type": "markdown",
   "metadata": {},
   "source": [
    "### Winning positions"
   ]
  },
  {
   "cell_type": "code",
   "execution_count": 56,
   "metadata": {
    "collapsed": false
   },
   "outputs": [],
   "source": [
    "np.random.seed(seed = 1)\n",
    "X_rand = pd.DataFrame(np.random.randint(3, size=(1000, len(X_cols)), ), columns=X_cols) - 1\n",
    "win_types = ['up', 'across', 'diag /', 'diag \\\\']\n",
    "win_type = 'diag \\\\'"
   ]
  },
  {
   "cell_type": "code",
   "execution_count": 57,
   "metadata": {
    "collapsed": false
   },
   "outputs": [],
   "source": [
    "def rows_and_columns_checked(win_type, all_rows, all_columns):\n",
    "    win_type_positions = {}\n",
    "    limit_top_rows = all_rows[:-connect_n + 1]\n",
    "    limit_bottom_rows = all_rows[connect_n - 1:]\n",
    "    limit_right_columns =  all_columns[:-connect_n + 1]\n",
    "    \n",
    "    # create dictionary of win types and a tuple of the rows and columns checked for each win type\n",
    "    for win_type in win_types:\n",
    "        if win_type == 'up':\n",
    "            rows_checked, columns_checked = limit_top_rows, all_columns\n",
    "        elif win_type == 'across':\n",
    "            rows_checked, columns_checked = all_rows, limit_right_columns\n",
    "        elif win_type == 'diag /':\n",
    "            rows_checked, columns_checked = limit_top_rows, limit_right_columns\n",
    "        elif win_type == 'diag \\\\':\n",
    "            rows_checked, columns_checked = limit_bottom_rows, limit_right_columns\n",
    "        else:\n",
    "            raise ValueError('not a valid win type')\n",
    "        win_type_positions[win_type] = rows_checked, columns_checked\n",
    "\n",
    "    # create dictionary of individual row/column positions and a list of their possible win types \n",
    "    positions_win_types_to_check = defaultdict(list)\n",
    "    for win_type, rows_and_columns_to_check in win_type_positions.iteritems():\n",
    "        for positions in itertools.product(rows_and_columns_to_check[0],rows_and_columns_to_check[1]):\n",
    "            row = positions[0]\n",
    "            column = positions[1]\n",
    "            position = column + str(row)\n",
    "            positions_win_types_to_check[position, (row, column)].append(win_type)\n",
    "    return positions_win_types_to_check"
   ]
  },
  {
   "cell_type": "code",
   "execution_count": 58,
   "metadata": {
    "collapsed": true
   },
   "outputs": [],
   "source": [
    "def win_type_angle(win_type, row_checked, column_checked):\n",
    "\n",
    "    # list row and column positions\n",
    "    if win_type == 'up':\n",
    "        angle_column_positions = list(column_checked) * connect_n\n",
    "        angle_row_positions = list(map(str, range(row_checked, row_checked + connect_n)))\n",
    "    elif win_type == 'across':\n",
    "        angle_column_positions = list(map(chr, range(ord(column_checked), ord(column_checked) + connect_n)))\n",
    "        angle_row_positions = list(str(row_checked)) * connect_n\n",
    "    elif win_type == 'diag /':\n",
    "        angle_column_positions = list(map(chr, range(ord(column_checked), ord(column_checked) + connect_n)))\n",
    "        angle_row_positions = list(map(str, range(row_checked, row_checked + connect_n)))\n",
    "    elif win_type == 'diag \\\\':\n",
    "        angle_column_positions = list(map(chr, range(ord(column_checked), ord(column_checked) + connect_n)))\n",
    "        angle_row_positions = list(map(str, range(row_checked, row_checked - connect_n, -1)))\n",
    "    else:\n",
    "        raise ValueError('not a valid win type')\n",
    "\n",
    "    # combine postitions\n",
    "    return [column + row for column, row in zip(angle_column_positions, angle_row_positions)]"
   ]
  },
  {
   "cell_type": "code",
   "execution_count": 59,
   "metadata": {
    "collapsed": false
   },
   "outputs": [],
   "source": [
    "def get_winning_positions(positions_win_types_to_check):\n",
    "    winning_positions = defaultdict(list)\n",
    "    for position, position_win_types in positions_win_types_to_check.iteritems():\n",
    "        row = position[1][0]\n",
    "        column = position[1][1]\n",
    "        for win_type in position_win_types:\n",
    "            additional_positions_to_check = win_type_angle(win_type, row, column)\n",
    "            winning_positions[position[0]].append((win_type, additional_positions_to_check))\n",
    "    return winning_positions"
   ]
  },
  {
   "cell_type": "code",
   "execution_count": 60,
   "metadata": {
    "collapsed": false
   },
   "outputs": [],
   "source": [
    "positions_win_types_to_check = rows_and_columns_checked(win_type, rows, columns)"
   ]
  },
  {
   "cell_type": "code",
   "execution_count": 61,
   "metadata": {
    "collapsed": false
   },
   "outputs": [],
   "source": [
    "winning_positions = get_winning_positions(positions_win_types_to_check)"
   ]
  },
  {
   "cell_type": "markdown",
   "metadata": {},
   "source": [
    "### Check for win"
   ]
  },
  {
   "cell_type": "code",
   "execution_count": 370,
   "metadata": {
    "collapsed": true
   },
   "outputs": [],
   "source": [
    "def determine_player(game_move_count):\n",
    "    player_choice = game_move_count % 2\n",
    "    player_choice *= 2\n",
    "    player_choice -= 1\n",
    "    return player_choice"
   ]
  },
  {
   "cell_type": "code",
   "execution_count": 267,
   "metadata": {
    "collapsed": false
   },
   "outputs": [],
   "source": [
    "def available_moves(player, remaining_empty_positions):\n",
    "    return [col + str(rows[0]) for col, rows in remaining_empty_positions.iteritems()]"
   ]
  },
  {
   "cell_type": "code",
   "execution_count": 324,
   "metadata": {
    "collapsed": true
   },
   "outputs": [],
   "source": [
    "def remove_empty_position(choosen_move, remaining_empty_positions):\n",
    "    remaining_empty_positions[choosen_move[0]].pop(0)\n",
    "    return remaining_empty_positions"
   ]
  },
  {
   "cell_type": "code",
   "execution_count": 325,
   "metadata": {
    "collapsed": true
   },
   "outputs": [],
   "source": [
    "def check_positions(game):\n",
    "    return game[game != 0].index"
   ]
  },
  {
   "cell_type": "code",
   "execution_count": 326,
   "metadata": {
    "collapsed": false
   },
   "outputs": [],
   "source": [
    "def obvious_win(game, remaining_empty_positions, winning_positions, player):\n",
    "    # has_best_move  BOOLEAN\n",
    "    # move_to_make   STRING board_position OR NULL\n",
    "    for board_position in check_positions(game):\n",
    "        for win_type_angle in winning_positions[board_position]:\n",
    "            game_positions_of_win_type_angle = game[win_type_angle[1]]\n",
    "            win_type_angle_status = game[win_type_angle[1]].value_counts()\n",
    "            if len(win_type_angle_status) == 2 and 0 in win_type_angle_status.index and player in win_type_angle_status.index:\n",
    "                if win_type_angle_status.loc[0] == 1 and win_type_angle_status.loc[player] == 3:\n",
    "                    winning_move = game_positions_of_win_type_angle[game_positions_of_win_type_angle == 0].index[0]\n",
    "                    if winning_move in available_moves(player, remaining_empty_positions):\n",
    "                        return True, winning_move\n",
    "    return False, None"
   ]
  },
  {
   "cell_type": "code",
   "execution_count": 327,
   "metadata": {
    "collapsed": true
   },
   "outputs": [],
   "source": [
    "def predict_best_move(game, remaining_empty_positions, winning_positions, player):\n",
    "    return random.choice(available_moves(player, remaining_empty_positions))"
   ]
  },
  {
   "cell_type": "code",
   "execution_count": 328,
   "metadata": {
    "collapsed": true
   },
   "outputs": [],
   "source": [
    "def choose_move(game, remaining_empty_positions, winning_positions, player):\n",
    "    # new_board_positions  DICT all board positions\n",
    "    has_obvious_win = obvious_win(game, remaining_empty_positions, winning_positions, player) \n",
    "    if has_obvious_win[0] == True:\n",
    "        choosen_move = has_obvious_win[1]\n",
    "        has_won_game = True\n",
    "    else:\n",
    "        choosen_move = predict_best_move(game, remaining_empty_positions, winning_positions, player)\n",
    "        has_won_game = False\n",
    "    return (choosen_move, has_won_game)"
   ]
  },
  {
   "cell_type": "code",
   "execution_count": 329,
   "metadata": {
    "collapsed": false
   },
   "outputs": [],
   "source": [
    "def determine_new_board_positions(game, choosen_move, player):\n",
    "    game[choosen_move] = player\n",
    "    return game"
   ]
  },
  {
   "cell_type": "code",
   "execution_count": 377,
   "metadata": {
    "collapsed": false
   },
   "outputs": [
    {
     "name": "stdout",
     "output_type": "stream",
     "text": [
      "-1 f1\n",
      "a0    0\n",
      "a1    0\n",
      "a2    0\n",
      "a3    0\n",
      "a4    0\n",
      "a5    0\n",
      "b0   -1\n",
      "b1    1\n",
      "b2    1\n",
      "b3    0\n",
      "b4    0\n",
      "b5    0\n",
      "c0    1\n",
      "c1   -1\n",
      "c2    1\n",
      "c3    0\n",
      "c4    0\n",
      "c5    0\n",
      "d0    1\n",
      "d1   -1\n",
      "d2    0\n",
      "d3    0\n",
      "d4    0\n",
      "d5    0\n",
      "e0   -1\n",
      "e1   -1\n",
      "e2    1\n",
      "e3    0\n",
      "e4    0\n",
      "e5    0\n",
      "f0   -1\n",
      "f1   -1\n",
      "f2    0\n",
      "f3    0\n",
      "f4    0\n",
      "f5    0\n",
      "g0   -1\n",
      "g1    1\n",
      "g2   -1\n",
      "g3    1\n",
      "g4    0\n",
      "g5    0\n",
      "dtype: int64\n"
     ]
    }
   ],
   "source": [
    "random.seed(0)\n",
    "game = new_game(X_cols)\n",
    "remaining_empty_positions = empty_positions(rows, columns)\n",
    "game_move_count = 0\n",
    "\n",
    "for game_move_count in range(board_height * board_width):\n",
    "    player = determine_player(game_move_count)\n",
    "    choosen_move, has_won_game = choose_move(game, remaining_empty_positions, winning_positions, player)\n",
    "    game = determine_new_board_positions(game, choosen_move, player)\n",
    "    remaining_empty_positions = remove_empty_position(choosen_move, remaining_empty_positions)\n",
    "    if has_won_game:\n",
    "        print player, choosen_move\n",
    "        print game\n",
    "        break"
   ]
  },
  {
   "cell_type": "code",
   "execution_count": null,
   "metadata": {
    "collapsed": true
   },
   "outputs": [],
   "source": []
  },
  {
   "cell_type": "code",
   "execution_count": null,
   "metadata": {
    "collapsed": true
   },
   "outputs": [],
   "source": []
  },
  {
   "cell_type": "code",
   "execution_count": null,
   "metadata": {
    "collapsed": true
   },
   "outputs": [],
   "source": []
  },
  {
   "cell_type": "code",
   "execution_count": null,
   "metadata": {
    "collapsed": true
   },
   "outputs": [],
   "source": []
  },
  {
   "cell_type": "code",
   "execution_count": null,
   "metadata": {
    "collapsed": true
   },
   "outputs": [],
   "source": []
  },
  {
   "cell_type": "code",
   "execution_count": null,
   "metadata": {
    "collapsed": true
   },
   "outputs": [],
   "source": []
  },
  {
   "cell_type": "code",
   "execution_count": null,
   "metadata": {
    "collapsed": true
   },
   "outputs": [],
   "source": []
  },
  {
   "cell_type": "code",
   "execution_count": null,
   "metadata": {
    "collapsed": true
   },
   "outputs": [],
   "source": []
  },
  {
   "cell_type": "code",
   "execution_count": 176,
   "metadata": {
    "collapsed": true
   },
   "outputs": [],
   "source": [
    "def check_for_win(new_board_positions, player):\n",
    "    # player    INT 1 or -1 \n",
    "    # position  STRING board_position\n",
    "    # win_type  STRING 'up, across, etc.\n",
    "    \n",
    "    return (player, position, win_type)"
   ]
  },
  {
   "cell_type": "code",
   "execution_count": 177,
   "metadata": {
    "collapsed": false
   },
   "outputs": [],
   "source": [
    "def make_move(player):\n",
    "    # check for obvious wins\n",
    "    has_best_move, move_to_make = obvious_win(player)\n",
    "    if has_best_move == True:\n",
    "        new_board_positions = make_move(move_to_make, player)\n",
    "    # evaluate possible next moves\n",
    "    else:\n",
    "        move_to_make = evaluate_moves(player)\n",
    "        new_board_positions = make_move(move_to_make, player)\n",
    "    # check for win\n",
    "    return check_for_win(new_board_positions, player)"
   ]
  },
  {
   "cell_type": "code",
   "execution_count": 105,
   "metadata": {
    "collapsed": true
   },
   "outputs": [],
   "source": [
    "np.random.seed(seed = 1)\n",
    "X_rand = pd.DataFrame(np.random.randint(3, size=(1000, len(X_cols)), ), columns=X_cols) - 1"
   ]
  },
  {
   "cell_type": "code",
   "execution_count": 106,
   "metadata": {
    "collapsed": false
   },
   "outputs": [
    {
     "name": "stdout",
     "output_type": "stream",
     "text": [
      "1 -1 | wins in b5 position | with a diag \\ win type\n",
      "1 -1 | wins in c4 position | with a diag \\ win type\n",
      "1 -1 | wins in d3 position | with a diag \\ win type\n",
      "2 -1 | wins in d3 position | with a across win type\n",
      "2 -1 | wins in d5 position | with a diag \\ win type\n",
      "2 -1 | wins in g2 position | with a up win type\n",
      "3 1 | wins in a5 position | with a diag \\ win type\n",
      "3 1 | wins in a5 position | with a across win type\n",
      "3 1 | wins in b4 position | with a diag \\ win type\n",
      "5 -1 | wins in a0 position | with a across win type\n",
      "5 1 | wins in e0 position | with a up win type\n",
      "5 -1 | wins in f2 position | with a up win type\n",
      "6 -1 | wins in b1 position | with a up win type\n",
      "8 1 | wins in a5 position | with a diag \\ win type\n",
      "9 -1 | wins in c0 position | with a across win type\n",
      "9 1 | wins in f1 position | with a up win type\n"
     ]
    }
   ],
   "source": [
    "winning_info = {}\n",
    "for idx, board_positions in X_rand[:10].iterrows():\n",
    "    winning_info[idx] = 0\n",
    "    for position, token in board_positions[board_positions.isin([-1, 1])].iteritems():\n",
    "        for win_type, positions in winning_positions[position]:\n",
    "            if board_positions[positions].map(lambda x: x == token).all():\n",
    "                winning_info[idx] = token\n",
    "                print str(idx) + ' {} | wins in {} position | with a {} win type'.format(token, position, win_type)"
   ]
  },
  {
   "cell_type": "code",
   "execution_count": 107,
   "metadata": {
    "collapsed": false
   },
   "outputs": [],
   "source": [
    "initial_example = X_rand.loc[6:8]"
   ]
  },
  {
   "cell_type": "code",
   "execution_count": 34,
   "metadata": {
    "collapsed": false
   },
   "outputs": [
    {
     "data": {
      "text/plain": [
       "{'a0': {6: 1, 7: -1}, 'a1': {6: 1, 7: -1}, 'a2': {6: 1, 7: -1}}"
      ]
     },
     "execution_count": 34,
     "metadata": {},
     "output_type": "execute_result"
    }
   ],
   "source": [
    "initial_example.iloc[:2, :3].to_dict()"
   ]
  },
  {
   "cell_type": "code",
   "execution_count": null,
   "metadata": {
    "collapsed": true
   },
   "outputs": [],
   "source": []
  },
  {
   "cell_type": "code",
   "execution_count": 35,
   "metadata": {
    "collapsed": false
   },
   "outputs": [
    {
     "data": {
      "text/plain": [
       "{6: -1, 7: 0, 8: 1}"
      ]
     },
     "execution_count": 35,
     "metadata": {},
     "output_type": "execute_result"
    }
   ],
   "source": [
    "dict((k, winning_info[k]) for k in (6, 7, 8))"
   ]
  },
  {
   "cell_type": "code",
   "execution_count": 16,
   "metadata": {
    "collapsed": false
   },
   "outputs": [
    {
     "ename": "SyntaxError",
     "evalue": "invalid syntax (<ipython-input-16-c2673684f405>, line 1)",
     "output_type": "error",
     "traceback": [
      "\u001b[0;36m  File \u001b[0;32m\"<ipython-input-16-c2673684f405>\"\u001b[0;36m, line \u001b[0;32m1\u001b[0m\n\u001b[0;31m    winning_info[]\u001b[0m\n\u001b[0m                 ^\u001b[0m\n\u001b[0;31mSyntaxError\u001b[0m\u001b[0;31m:\u001b[0m invalid syntax\n"
     ]
    }
   ],
   "source": [
    "winning_info[]"
   ]
  },
  {
   "cell_type": "code",
   "execution_count": 142,
   "metadata": {
    "collapsed": false
   },
   "outputs": [
    {
     "data": {
      "text/plain": [
       "a0    1\n",
       "a1    1\n",
       "a2    1\n",
       "a3   -1\n",
       "a4    1\n",
       "a5    1\n",
       "b0    0\n",
       "b1   -1\n",
       "b2   -1\n",
       "b3   -1\n",
       "b4   -1\n",
       "b5    1\n",
       "c0    0\n",
       "c1    0\n",
       "c2   -1\n",
       "c3    1\n",
       "c4    1\n",
       "c5    0\n",
       "d0    1\n",
       "d1    0\n",
       "d2    1\n",
       "d3    0\n",
       "d4    1\n",
       "d5   -1\n",
       "e0   -1\n",
       "e1    1\n",
       "e2    1\n",
       "e3   -1\n",
       "e4    0\n",
       "e5    1\n",
       "f0   -1\n",
       "f1    1\n",
       "f2   -1\n",
       "f3    0\n",
       "f4   -1\n",
       "f5   -1\n",
       "g0    1\n",
       "g1   -1\n",
       "g2    1\n",
       "g3    0\n",
       "g4    1\n",
       "g5   -1\n",
       "Name: 6, dtype: int64"
      ]
     },
     "execution_count": 142,
     "metadata": {},
     "output_type": "execute_result"
    }
   ],
   "source": []
  },
  {
   "cell_type": "code",
   "execution_count": null,
   "metadata": {
    "collapsed": true
   },
   "outputs": [],
   "source": []
  }
 ],
 "metadata": {
  "kernelspec": {
   "display_name": "Python 2",
   "language": "python",
   "name": "python2"
  },
  "language_info": {
   "codemirror_mode": {
    "name": "ipython",
    "version": 2
   },
   "file_extension": ".py",
   "mimetype": "text/x-python",
   "name": "python",
   "nbconvert_exporter": "python",
   "pygments_lexer": "ipython2",
   "version": "2.7.12"
  }
 },
 "nbformat": 4,
 "nbformat_minor": 0
}
