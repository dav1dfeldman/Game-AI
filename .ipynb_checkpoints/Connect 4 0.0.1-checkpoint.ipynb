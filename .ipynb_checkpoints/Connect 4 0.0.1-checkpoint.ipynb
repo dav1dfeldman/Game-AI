{
 "cells": [
  {
   "cell_type": "code",
   "execution_count": 1,
   "metadata": {
    "collapsed": true
   },
   "outputs": [],
   "source": [
    "import pandas as pd\n",
    "import numpy as np\n",
    "from string import ascii_lowercase\n",
    "import itertools\n",
    "import string\n",
    "from collections import defaultdict\n",
    "\n",
    "pd.set_option('display.max_columns', 50)"
   ]
  },
  {
   "cell_type": "markdown",
   "metadata": {},
   "source": [
    "### Board"
   ]
  },
  {
   "cell_type": "code",
   "execution_count": 56,
   "metadata": {
    "collapsed": true
   },
   "outputs": [],
   "source": [
    "connect_n = 4\n",
    "board_height = 6\n",
    "board_width = 7 # max 26"
   ]
  },
  {
   "cell_type": "code",
   "execution_count": 57,
   "metadata": {
    "collapsed": false
   },
   "outputs": [],
   "source": [
    "columns = [column for column in ascii_lowercase[:board_width]]\n",
    "rows = [row for row in range(board_height)]"
   ]
  },
  {
   "cell_type": "code",
   "execution_count": 58,
   "metadata": {
    "collapsed": true
   },
   "outputs": [],
   "source": [
    "X_cols = []\n",
    "for column in ascii_lowercase[:board_width]:\n",
    "    for row in range(board_height):\n",
    "        X_cols.append(column + str(row))"
   ]
  },
  {
   "cell_type": "markdown",
   "metadata": {},
   "source": [
    "### Winning positions"
   ]
  },
  {
   "cell_type": "code",
   "execution_count": 59,
   "metadata": {
    "collapsed": false
   },
   "outputs": [],
   "source": [
    "np.random.seed(seed = 1)\n",
    "X_rand = pd.DataFrame(np.random.randint(3, size=(1000, len(X_cols)), ), columns=X_cols) - 1\n",
    "win_types = ['up', 'across', 'diag /', 'diag \\\\']\n",
    "win_type = 'diag \\\\'"
   ]
  },
  {
   "cell_type": "code",
   "execution_count": 122,
   "metadata": {
    "collapsed": false
   },
   "outputs": [],
   "source": [
    "def rows_and_columns_checked(win_type, all_rows, all_columns):\n",
    "    win_type_positions = {}\n",
    "    limit_top_rows = all_rows[:-connect_n + 1]\n",
    "    limit_bottom_rows = all_rows[connect_n - 1:]\n",
    "    limit_right_columns =  all_columns[:-connect_n + 1]\n",
    "    \n",
    "    # create dictionary of win types and a tuple of the rows and columns checked for each win type\n",
    "    for win_type in win_types:\n",
    "        if win_type == 'up':\n",
    "            rows_checked, columns_checked = limit_top_rows, all_columns\n",
    "        elif win_type == 'across':\n",
    "            rows_checked, columns_checked = all_rows, limit_right_columns\n",
    "        elif win_type == 'diag /':\n",
    "            rows_checked, columns_checked = limit_top_rows, limit_right_columns\n",
    "        elif win_type == 'diag \\\\':\n",
    "            rows_checked, columns_checked = limit_bottom_rows, limit_right_columns\n",
    "        else:\n",
    "            raise ValueError('not a valid win type')\n",
    "        win_type_positions[win_type] = rows_checked, columns_checked\n",
    "\n",
    "    # create dictionary of individual row/column positions and a list of their possible win types \n",
    "    positions_win_types_to_check = defaultdict(list)\n",
    "    for win_type, rows_and_columns_to_check in win_type_positions.iteritems():\n",
    "        for positions in itertools.product(rows_and_columns_to_check[0],rows_and_columns_to_check[1]):\n",
    "            row = positions[0]\n",
    "            column = positions[1]\n",
    "            position = column + str(row)\n",
    "            positions_win_types_to_check[position, (row, column)].append(win_type)\n",
    "    return positions_win_types_to_check"
   ]
  },
  {
   "cell_type": "code",
   "execution_count": 123,
   "metadata": {
    "collapsed": true
   },
   "outputs": [],
   "source": [
    "def win_type_angle(win_type, row_checked, column_checked):\n",
    "\n",
    "    # list row and column positions\n",
    "    if win_type == 'up':\n",
    "        angle_column_positions = list(column_checked) * connect_n\n",
    "        angle_row_positions = list(map(str, range(row_checked, row_checked + connect_n)))\n",
    "    elif win_type == 'across':\n",
    "        angle_column_positions = list(map(chr, range(ord(column_checked), ord(column_checked) + connect_n)))\n",
    "        angle_row_positions = list(str(row_checked)) * connect_n\n",
    "    elif win_type == 'diag /':\n",
    "        angle_column_positions = list(map(chr, range(ord(column_checked), ord(column_checked) + connect_n)))\n",
    "        angle_row_positions = list(map(str, range(row_checked, row_checked + connect_n)))\n",
    "    elif win_type == 'diag \\\\':\n",
    "        angle_column_positions = list(map(chr, range(ord(column_checked), ord(column_checked) + connect_n)))\n",
    "        angle_row_positions = list(map(str, range(row_checked, row_checked - connect_n, -1)))\n",
    "    else:\n",
    "        raise ValueError('not a valid win type')\n",
    "\n",
    "    # combine postitions\n",
    "    return [column + row for column, row in zip(angle_column_positions, angle_row_positions)]"
   ]
  },
  {
   "cell_type": "code",
   "execution_count": 124,
   "metadata": {
    "collapsed": false
   },
   "outputs": [],
   "source": [
    "def get_winning_positions(positions_win_types_to_check):\n",
    "    winning_positions = defaultdict(list)\n",
    "    for position, position_win_types in positions_win_types_to_check.iteritems():\n",
    "        row = position[1][0]\n",
    "        column = position[1][1]\n",
    "        for win_type in position_win_types:\n",
    "            positions_to_check = win_type_angle(win_type, row, column)\n",
    "            winning_positions[position[0]].append((win_type, positions_to_check))\n",
    "    return winning_positions"
   ]
  },
  {
   "cell_type": "code",
   "execution_count": 125,
   "metadata": {
    "collapsed": false
   },
   "outputs": [],
   "source": [
    "positions_win_types_to_check = rows_and_columns_checked(win_type, rows, columns)"
   ]
  },
  {
   "cell_type": "code",
   "execution_count": 126,
   "metadata": {
    "collapsed": false
   },
   "outputs": [],
   "source": [
    "winning_positions = get_winning_positions(positions_win_types_to_check)"
   ]
  },
  {
   "cell_type": "markdown",
   "metadata": {},
   "source": [
    "### Check for win"
   ]
  },
  {
   "cell_type": "code",
   "execution_count": 162,
   "metadata": {
    "collapsed": true
   },
   "outputs": [],
   "source": [
    "np.random.seed(seed = 1)\n",
    "X_rand = pd.DataFrame(np.random.randint(3, size=(1000, len(X_cols)), ), columns=X_cols) - 1"
   ]
  },
  {
   "cell_type": "code",
   "execution_count": 185,
   "metadata": {
    "collapsed": false
   },
   "outputs": [
    {
     "name": "stdout",
     "output_type": "stream",
     "text": [
      "1 -1 | wins in b5 position | with a diag \\ win type\n",
      "1 -1 | wins in c4 position | with a diag \\ win type\n",
      "1 -1 | wins in d3 position | with a diag \\ win type\n",
      "2 -1 | wins in d3 position | with a across win type\n",
      "2 -1 | wins in d5 position | with a diag \\ win type\n",
      "2 -1 | wins in g2 position | with a up win type\n",
      "3 1 | wins in a5 position | with a diag \\ win type\n",
      "3 1 | wins in a5 position | with a across win type\n",
      "3 1 | wins in b4 position | with a diag \\ win type\n",
      "5 -1 | wins in a0 position | with a across win type\n",
      "5 1 | wins in e0 position | with a up win type\n",
      "5 -1 | wins in f2 position | with a up win type\n",
      "6 -1 | wins in b1 position | with a up win type\n",
      "8 1 | wins in a5 position | with a diag \\ win type\n",
      "9 -1 | wins in c0 position | with a across win type\n",
      "9 1 | wins in f1 position | with a up win type\n"
     ]
    }
   ],
   "source": [
    "winning_info = {}\n",
    "for idx, board_positions in X_rand[:10].iterrows():\n",
    "    winning_info[idx] = 0\n",
    "    for position, token in board_positions[board_positions.isin([-1, 1])].iteritems():\n",
    "        for win_type, positions in winning_positions[position]:\n",
    "            if board_positions[positions].map(lambda x: x == token).all():\n",
    "                winning_info[idx] = token\n",
    "                print str(idx) + ' {} | wins in {} position | with a {} win type'.format(token, position, win_type)"
   ]
  },
  {
   "cell_type": "code",
   "execution_count": 193,
   "metadata": {
    "collapsed": false
   },
   "outputs": [],
   "source": [
    "initial_example = X_rand.loc[6:8]"
   ]
  },
  {
   "cell_type": "code",
   "execution_count": 194,
   "metadata": {
    "collapsed": false
   },
   "outputs": [
    {
     "data": {
      "text/html": [
       "<div>\n",
       "<table border=\"1\" class=\"dataframe\">\n",
       "  <thead>\n",
       "    <tr style=\"text-align: right;\">\n",
       "      <th></th>\n",
       "      <th>a0</th>\n",
       "      <th>a1</th>\n",
       "      <th>a2</th>\n",
       "      <th>a3</th>\n",
       "      <th>a4</th>\n",
       "      <th>a5</th>\n",
       "      <th>b0</th>\n",
       "      <th>b1</th>\n",
       "      <th>b2</th>\n",
       "      <th>b3</th>\n",
       "      <th>b4</th>\n",
       "      <th>b5</th>\n",
       "      <th>c0</th>\n",
       "      <th>c1</th>\n",
       "      <th>c2</th>\n",
       "      <th>c3</th>\n",
       "      <th>c4</th>\n",
       "      <th>c5</th>\n",
       "      <th>d0</th>\n",
       "      <th>d1</th>\n",
       "      <th>d2</th>\n",
       "      <th>d3</th>\n",
       "      <th>d4</th>\n",
       "      <th>d5</th>\n",
       "      <th>e0</th>\n",
       "      <th>e1</th>\n",
       "      <th>e2</th>\n",
       "      <th>e3</th>\n",
       "      <th>e4</th>\n",
       "      <th>e5</th>\n",
       "      <th>f0</th>\n",
       "      <th>f1</th>\n",
       "      <th>f2</th>\n",
       "      <th>f3</th>\n",
       "      <th>f4</th>\n",
       "      <th>f5</th>\n",
       "      <th>g0</th>\n",
       "      <th>g1</th>\n",
       "      <th>g2</th>\n",
       "      <th>g3</th>\n",
       "      <th>g4</th>\n",
       "      <th>g5</th>\n",
       "    </tr>\n",
       "  </thead>\n",
       "  <tbody>\n",
       "    <tr>\n",
       "      <th>6</th>\n",
       "      <td>1</td>\n",
       "      <td>1</td>\n",
       "      <td>1</td>\n",
       "      <td>-1</td>\n",
       "      <td>1</td>\n",
       "      <td>1</td>\n",
       "      <td>0</td>\n",
       "      <td>-1</td>\n",
       "      <td>-1</td>\n",
       "      <td>-1</td>\n",
       "      <td>-1</td>\n",
       "      <td>1</td>\n",
       "      <td>0</td>\n",
       "      <td>0</td>\n",
       "      <td>-1</td>\n",
       "      <td>1</td>\n",
       "      <td>1</td>\n",
       "      <td>0</td>\n",
       "      <td>1</td>\n",
       "      <td>0</td>\n",
       "      <td>1</td>\n",
       "      <td>0</td>\n",
       "      <td>1</td>\n",
       "      <td>-1</td>\n",
       "      <td>-1</td>\n",
       "      <td>1</td>\n",
       "      <td>1</td>\n",
       "      <td>-1</td>\n",
       "      <td>0</td>\n",
       "      <td>1</td>\n",
       "      <td>-1</td>\n",
       "      <td>1</td>\n",
       "      <td>-1</td>\n",
       "      <td>0</td>\n",
       "      <td>-1</td>\n",
       "      <td>-1</td>\n",
       "      <td>1</td>\n",
       "      <td>-1</td>\n",
       "      <td>1</td>\n",
       "      <td>0</td>\n",
       "      <td>1</td>\n",
       "      <td>-1</td>\n",
       "    </tr>\n",
       "    <tr>\n",
       "      <th>7</th>\n",
       "      <td>-1</td>\n",
       "      <td>-1</td>\n",
       "      <td>-1</td>\n",
       "      <td>1</td>\n",
       "      <td>1</td>\n",
       "      <td>-1</td>\n",
       "      <td>1</td>\n",
       "      <td>0</td>\n",
       "      <td>0</td>\n",
       "      <td>0</td>\n",
       "      <td>-1</td>\n",
       "      <td>0</td>\n",
       "      <td>1</td>\n",
       "      <td>0</td>\n",
       "      <td>1</td>\n",
       "      <td>1</td>\n",
       "      <td>0</td>\n",
       "      <td>-1</td>\n",
       "      <td>0</td>\n",
       "      <td>1</td>\n",
       "      <td>1</td>\n",
       "      <td>-1</td>\n",
       "      <td>-1</td>\n",
       "      <td>-1</td>\n",
       "      <td>1</td>\n",
       "      <td>-1</td>\n",
       "      <td>0</td>\n",
       "      <td>-1</td>\n",
       "      <td>1</td>\n",
       "      <td>1</td>\n",
       "      <td>-1</td>\n",
       "      <td>0</td>\n",
       "      <td>0</td>\n",
       "      <td>1</td>\n",
       "      <td>0</td>\n",
       "      <td>1</td>\n",
       "      <td>-1</td>\n",
       "      <td>0</td>\n",
       "      <td>0</td>\n",
       "      <td>-1</td>\n",
       "      <td>0</td>\n",
       "      <td>0</td>\n",
       "    </tr>\n",
       "    <tr>\n",
       "      <th>8</th>\n",
       "      <td>1</td>\n",
       "      <td>1</td>\n",
       "      <td>-1</td>\n",
       "      <td>1</td>\n",
       "      <td>-1</td>\n",
       "      <td>1</td>\n",
       "      <td>-1</td>\n",
       "      <td>1</td>\n",
       "      <td>1</td>\n",
       "      <td>-1</td>\n",
       "      <td>1</td>\n",
       "      <td>-1</td>\n",
       "      <td>1</td>\n",
       "      <td>-1</td>\n",
       "      <td>0</td>\n",
       "      <td>1</td>\n",
       "      <td>0</td>\n",
       "      <td>-1</td>\n",
       "      <td>1</td>\n",
       "      <td>1</td>\n",
       "      <td>1</td>\n",
       "      <td>-1</td>\n",
       "      <td>0</td>\n",
       "      <td>1</td>\n",
       "      <td>0</td>\n",
       "      <td>0</td>\n",
       "      <td>0</td>\n",
       "      <td>0</td>\n",
       "      <td>-1</td>\n",
       "      <td>0</td>\n",
       "      <td>1</td>\n",
       "      <td>0</td>\n",
       "      <td>-1</td>\n",
       "      <td>-1</td>\n",
       "      <td>1</td>\n",
       "      <td>1</td>\n",
       "      <td>0</td>\n",
       "      <td>-1</td>\n",
       "      <td>-1</td>\n",
       "      <td>-1</td>\n",
       "      <td>1</td>\n",
       "      <td>1</td>\n",
       "    </tr>\n",
       "  </tbody>\n",
       "</table>\n",
       "</div>"
      ],
      "text/plain": [
       "   a0  a1  a2  a3  a4  a5  b0  b1  b2  b3  b4  b5  c0  c1  c2  c3  c4  c5  d0  \\\n",
       "6   1   1   1  -1   1   1   0  -1  -1  -1  -1   1   0   0  -1   1   1   0   1   \n",
       "7  -1  -1  -1   1   1  -1   1   0   0   0  -1   0   1   0   1   1   0  -1   0   \n",
       "8   1   1  -1   1  -1   1  -1   1   1  -1   1  -1   1  -1   0   1   0  -1   1   \n",
       "\n",
       "   d1  d2  d3  d4  d5  e0  e1  e2  e3  e4  e5  f0  f1  f2  f3  f4  f5  g0  g1  \\\n",
       "6   0   1   0   1  -1  -1   1   1  -1   0   1  -1   1  -1   0  -1  -1   1  -1   \n",
       "7   1   1  -1  -1  -1   1  -1   0  -1   1   1  -1   0   0   1   0   1  -1   0   \n",
       "8   1   1  -1   0   1   0   0   0   0  -1   0   1   0  -1  -1   1   1   0  -1   \n",
       "\n",
       "   g2  g3  g4  g5  \n",
       "6   1   0   1  -1  \n",
       "7   0  -1   0   0  \n",
       "8  -1  -1   1   1  "
      ]
     },
     "execution_count": 194,
     "metadata": {},
     "output_type": "execute_result"
    }
   ],
   "source": [
    "initial_example"
   ]
  },
  {
   "cell_type": "code",
   "execution_count": 188,
   "metadata": {
    "collapsed": false
   },
   "outputs": [
    {
     "data": {
      "text/plain": [
       "{6: -1, 7: 0, 8: 1}"
      ]
     },
     "execution_count": 188,
     "metadata": {},
     "output_type": "execute_result"
    }
   ],
   "source": [
    "dict((k, winning_info[k]) for k in (6, 7, 8))"
   ]
  },
  {
   "cell_type": "code",
   "execution_count": 186,
   "metadata": {
    "collapsed": false
   },
   "outputs": [
    {
     "data": {
      "text/plain": [
       "{0: 0, 1: -1, 2: -1, 3: 1, 4: 0, 5: -1, 6: -1, 7: 0, 8: 1, 9: 1}"
      ]
     },
     "execution_count": 186,
     "metadata": {},
     "output_type": "execute_result"
    }
   ],
   "source": [
    "winning_info[]"
   ]
  },
  {
   "cell_type": "code",
   "execution_count": 164,
   "metadata": {
    "collapsed": false
   },
   "outputs": [
    {
     "data": {
      "text/plain": [
       "a0   -1\n",
       "a1    0\n",
       "a2    1\n",
       "a3    0\n",
       "a4   -1\n",
       "a5    1\n",
       "b0    1\n",
       "b1    0\n",
       "b2    0\n",
       "b3    0\n",
       "b4   -1\n",
       "b5   -1\n",
       "c0    0\n",
       "c1   -1\n",
       "c2    1\n",
       "c3   -1\n",
       "c4   -1\n",
       "c5    0\n",
       "d0    0\n",
       "d1    1\n",
       "d2   -1\n",
       "d3   -1\n",
       "d4    0\n",
       "d5    1\n",
       "e0    1\n",
       "e1    0\n",
       "e2   -1\n",
       "e3    1\n",
       "e4    0\n",
       "e5    1\n",
       "f0    0\n",
       "f1   -1\n",
       "f2    0\n",
       "f3    0\n",
       "f4    1\n",
       "f5   -1\n",
       "g0   -1\n",
       "g1    1\n",
       "g2    1\n",
       "g3    0\n",
       "g4   -1\n",
       "g5    1\n",
       "Name: 1, dtype: int64"
      ]
     },
     "execution_count": 164,
     "metadata": {},
     "output_type": "execute_result"
    }
   ],
   "source": [
    "X_rand.iloc[1]"
   ]
  },
  {
   "cell_type": "code",
   "execution_count": null,
   "metadata": {
    "collapsed": true
   },
   "outputs": [],
   "source": []
  }
 ],
 "metadata": {
  "kernelspec": {
   "display_name": "Python 2",
   "language": "python",
   "name": "python2"
  },
  "language_info": {
   "codemirror_mode": {
    "name": "ipython",
    "version": 2
   },
   "file_extension": ".py",
   "mimetype": "text/x-python",
   "name": "python",
   "nbconvert_exporter": "python",
   "pygments_lexer": "ipython2",
   "version": "2.7.12"
  }
 },
 "nbformat": 4,
 "nbformat_minor": 0
}
