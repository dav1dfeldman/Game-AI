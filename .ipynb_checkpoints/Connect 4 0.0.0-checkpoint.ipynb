{
 "cells": [
  {
   "cell_type": "code",
   "execution_count": 1,
   "metadata": {
    "collapsed": false
   },
   "outputs": [],
   "source": [
    "import pandas as pd\n",
    "import numpy as np\n",
    "from string import ascii_lowercase\n",
    "import itertools\n",
    "import string\n",
    "\n",
    "pd.set_option('display.max_columns', 50)"
   ]
  },
  {
   "cell_type": "code",
   "execution_count": 2,
   "metadata": {
    "collapsed": true
   },
   "outputs": [],
   "source": [
    "connect_n = 4"
   ]
  },
  {
   "cell_type": "markdown",
   "metadata": {},
   "source": [
    "### Board"
   ]
  },
  {
   "cell_type": "code",
   "execution_count": 3,
   "metadata": {
    "collapsed": false
   },
   "outputs": [],
   "source": [
    "columns = [column for column in ascii_lowercase[:7]]\n",
    "rows = [row for row in range(6)]"
   ]
  },
  {
   "cell_type": "code",
   "execution_count": 4,
   "metadata": {
    "collapsed": false
   },
   "outputs": [],
   "source": [
    "X_cols = []\n",
    "for column in ascii_lowercase[:7]:\n",
    "    for row in range(6):\n",
    "        X_cols.append(column + str(row))"
   ]
  },
  {
   "cell_type": "markdown",
   "metadata": {},
   "source": [
    "### Check win"
   ]
  },
  {
   "cell_type": "code",
   "execution_count": 5,
   "metadata": {
    "collapsed": false
   },
   "outputs": [],
   "source": [
    "np.random.seed(seed = 1)\n",
    "X_rand = pd.DataFrame(np.random.randint(3, size=(1000, len(X_cols)), ), columns=X_cols) - 1\n",
    "win_types = ['up', 'across', 'diag /', 'diag \\\\']\n",
    "win_type = 'diag \\\\'"
   ]
  },
  {
   "cell_type": "code",
   "execution_count": 51,
   "metadata": {
    "collapsed": false
   },
   "outputs": [],
   "source": [
    "def reduce_rows_and_columns_checked(win_type):\n",
    "    if win_type == 'up':\n",
    "        reduce_column, reduce_row = False, True\n",
    "    elif win_type == 'across':\n",
    "        reduce_column, reduce_row = True, False\n",
    "    elif win_type == 'diag /':\n",
    "        reduce_column, reduce_row = True, True\n",
    "    elif win_type == 'diag \\\\':\n",
    "        reduce_column, reduce_row = True, True\n",
    "    else:\n",
    "        raise ValueError('not a valid win type')\n",
    "    return reduce_column, reduce_row"
   ]
  },
  {
   "cell_type": "code",
   "execution_count": 72,
   "metadata": {
    "collapsed": false
   },
   "outputs": [],
   "source": [
    "def columns_checked(reduce_column, columns, connect_n):\n",
    "    if reduce_column:\n",
    "        column_limit = len(columns) - connect_n + 1\n",
    "    else:\n",
    "        column_limit = len(columns)\n",
    "    return columns[:column_limit]"
   ]
  },
  {
   "cell_type": "code",
   "execution_count": 73,
   "metadata": {
    "collapsed": false
   },
   "outputs": [],
   "source": [
    "def rows_checked(reduce_row, rows, connect_n):\n",
    "    if reduce_row:\n",
    "        row_limit = len(rows) - connect_n + 1\n",
    "    else:\n",
    "        row_limit = len(rows)\n",
    "    return rows[:row_limit]"
   ]
  },
  {
   "cell_type": "code",
   "execution_count": 74,
   "metadata": {
    "collapsed": true
   },
   "outputs": [],
   "source": [
    "column_limit = len(columns) - connect_n + 1"
   ]
  },
  {
   "cell_type": "code",
   "execution_count": 75,
   "metadata": {
    "collapsed": false
   },
   "outputs": [
    {
     "data": {
      "text/plain": [
       "4"
      ]
     },
     "execution_count": 75,
     "metadata": {},
     "output_type": "execute_result"
    }
   ],
   "source": [
    "column_limit"
   ]
  },
  {
   "cell_type": "code",
   "execution_count": 117,
   "metadata": {
    "collapsed": false
   },
   "outputs": [
    {
     "data": {
      "text/plain": [
       "['a', 'b', 'c']"
      ]
     },
     "execution_count": 117,
     "metadata": {},
     "output_type": "execute_result"
    }
   ],
   "source": [
    "columns[:-5 + 1]"
   ]
  },
  {
   "cell_type": "code",
   "execution_count": 121,
   "metadata": {
    "collapsed": false
   },
   "outputs": [
    {
     "data": {
      "text/plain": [
       "['e', 'f', 'g']"
      ]
     },
     "execution_count": 121,
     "metadata": {},
     "output_type": "execute_result"
    }
   ],
   "source": [
    "columns[5 - 1:]"
   ]
  },
  {
   "cell_type": "code",
   "execution_count": 111,
   "metadata": {
    "collapsed": false
   },
   "outputs": [
    {
     "data": {
      "text/plain": [
       "['d', 'e', 'f', 'g']"
      ]
     },
     "execution_count": 111,
     "metadata": {},
     "output_type": "execute_result"
    }
   ],
   "source": [
    "columns[column_limit - 1:]"
   ]
  },
  {
   "cell_type": "code",
   "execution_count": 125,
   "metadata": {
    "collapsed": false
   },
   "outputs": [
    {
     "data": {
      "text/plain": [
       "[0, 1, 2, 3, 4, 5]"
      ]
     },
     "execution_count": 125,
     "metadata": {},
     "output_type": "execute_result"
    }
   ],
   "source": [
    "rows"
   ]
  },
  {
   "cell_type": "code",
   "execution_count": 126,
   "metadata": {
    "collapsed": false
   },
   "outputs": [
    {
     "data": {
      "text/plain": [
       "[3, 4, 5]"
      ]
     },
     "execution_count": 126,
     "metadata": {},
     "output_type": "execute_result"
    }
   ],
   "source": [
    "rows[connect_n - 1:]"
   ]
  },
  {
   "cell_type": "code",
   "execution_count": 128,
   "metadata": {
    "collapsed": false
   },
   "outputs": [
    {
     "data": {
      "text/plain": [
       "['a', 'b', 'c', 'd']"
      ]
     },
     "execution_count": 128,
     "metadata": {},
     "output_type": "execute_result"
    }
   ],
   "source": [
    "columns[:-connect_n + 1]"
   ]
  },
  {
   "cell_type": "code",
   "execution_count": 134,
   "metadata": {
    "collapsed": true
   },
   "outputs": [],
   "source": [
    "def rows_and_columns_checked(win_type, all_rows, all_columns):\n",
    "    limit_top_rows = all_rows[:-connect_n + 1]\n",
    "    limit_bottom_rows = all_rows[connect_n - 1:]\n",
    "    limit_right_columns =  all_columns[:-connect_n + 1]\n",
    "    \n",
    "    if win_type == 'up':\n",
    "        rows_checked, columns_checked = limit_top_rows, all_columns\n",
    "    elif win_type == 'across':\n",
    "        rows_checked, columns_checked = all_rows, limit_right_columns\n",
    "    elif win_type == 'diag /':\n",
    "        rows_checked, columns_checked = limit_top_rows, limit_right_columns\n",
    "    elif win_type == 'diag \\\\':\n",
    "        rows_checked, columns_checked = limit_bottom_rows, limit_right_columns\n",
    "    else:\n",
    "        raise ValueError('not a valid win type')\n",
    "    return rows_checked, columns_checked"
   ]
  },
  {
   "cell_type": "code",
   "execution_count": 135,
   "metadata": {
    "collapsed": false
   },
   "outputs": [
    {
     "data": {
      "text/plain": [
       "([3, 4, 5], ['a', 'b', 'c', 'd'])"
      ]
     },
     "execution_count": 135,
     "metadata": {},
     "output_type": "execute_result"
    }
   ],
   "source": [
    "rows_and_columns_checked('diag \\\\', rows, columns)"
   ]
  },
  {
   "cell_type": "code",
   "execution_count": 88,
   "metadata": {
    "collapsed": false
   },
   "outputs": [],
   "source": [
    "reduce_column, reduce_row = reduce_rows_and_columns_checked('diag \\\\')"
   ]
  },
  {
   "cell_type": "code",
   "execution_count": 89,
   "metadata": {
    "collapsed": false
   },
   "outputs": [
    {
     "data": {
      "text/plain": [
       "['a', 'b', 'c', 'd']"
      ]
     },
     "execution_count": 89,
     "metadata": {},
     "output_type": "execute_result"
    }
   ],
   "source": [
    "columns_checked(reduce_column, columns, connect_n)"
   ]
  },
  {
   "cell_type": "code",
   "execution_count": 90,
   "metadata": {
    "collapsed": false
   },
   "outputs": [
    {
     "data": {
      "text/plain": [
       "[0, 1, 2]"
      ]
     },
     "execution_count": 90,
     "metadata": {},
     "output_type": "execute_result"
    }
   ],
   "source": [
    "rows_checked(reduce_row, rows, connect_n)"
   ]
  },
  {
   "cell_type": "code",
   "execution_count": 136,
   "metadata": {
    "collapsed": false
   },
   "outputs": [],
   "source": [
    "def get_winning_positions(win_types, columns_checked, rows_checked):\n",
    "    winning_positions = {}\n",
    "    for win_type in win_types:\n",
    "        winning_positions[win_type] = {}\n",
    "        for column in columns_checked(reduce_column, columns, connect_n):\n",
    "            for row in rows_checked(reduce_row, rows, connect_n):\n",
    "                winning_positions[win_type][column + str(row)] = win_type_angle(win_type, column, row)\n",
    "    return winning_positions"
   ]
  },
  {
   "cell_type": "code",
   "execution_count": 20,
   "metadata": {
    "collapsed": true
   },
   "outputs": [],
   "source": [
    "def get_winning_positions(win_types, columns_checked, rows_checked):\n",
    "    winning_positions = {}\n",
    "    for column in columns_checked(reduce_column, columns, connect_n):\n",
    "        for row in rows_checked(reduce_row, rows, connect_n):\n",
    "            winning_positions[column + str(row)] = {}\n",
    "            for win_type in win_types:\n",
    "                winning_positions[column + str(row)][win_type] = win_type_angle(win_type, column, row)\n",
    "    return winning_positions"
   ]
  },
  {
   "cell_type": "code",
   "execution_count": 137,
   "metadata": {
    "collapsed": false
   },
   "outputs": [
    {
     "data": {
      "text/plain": [
       "{'across': {'a0': ['a0', 'b0', 'c0', 'd0'],\n",
       "  'a1': ['a1', 'b1', 'c1', 'd1'],\n",
       "  'a2': ['a2', 'b2', 'c2', 'd2'],\n",
       "  'b0': ['b0', 'c0', 'd0', 'e0'],\n",
       "  'b1': ['b1', 'c1', 'd1', 'e1'],\n",
       "  'b2': ['b2', 'c2', 'd2', 'e2'],\n",
       "  'c0': ['c0', 'd0', 'e0', 'f0'],\n",
       "  'c1': ['c1', 'd1', 'e1', 'f1'],\n",
       "  'c2': ['c2', 'd2', 'e2', 'f2'],\n",
       "  'd0': ['d0', 'e0', 'f0', 'g0'],\n",
       "  'd1': ['d1', 'e1', 'f1', 'g1'],\n",
       "  'd2': ['d2', 'e2', 'f2', 'g2']},\n",
       " 'diag /': {'a0': ['a0', 'b1', 'c2', 'd3'],\n",
       "  'a1': ['a1', 'b2', 'c3', 'd4'],\n",
       "  'a2': ['a2', 'b3', 'c4', 'd5'],\n",
       "  'b0': ['b0', 'c1', 'd2', 'e3'],\n",
       "  'b1': ['b1', 'c2', 'd3', 'e4'],\n",
       "  'b2': ['b2', 'c3', 'd4', 'e5'],\n",
       "  'c0': ['c0', 'd1', 'e2', 'f3'],\n",
       "  'c1': ['c1', 'd2', 'e3', 'f4'],\n",
       "  'c2': ['c2', 'd3', 'e4', 'f5'],\n",
       "  'd0': ['d0', 'e1', 'f2', 'g3'],\n",
       "  'd1': ['d1', 'e2', 'f3', 'g4'],\n",
       "  'd2': ['d2', 'e3', 'f4', 'g5']},\n",
       " 'diag \\\\': {'a0': ['a3', 'b2', 'c1', 'd0'],\n",
       "  'a1': ['a4', 'b3', 'c2', 'd1'],\n",
       "  'a2': ['a5', 'b4', 'c3', 'd2'],\n",
       "  'b0': ['b3', 'c2', 'd1', 'e0'],\n",
       "  'b1': ['b4', 'c3', 'd2', 'e1'],\n",
       "  'b2': ['b5', 'c4', 'd3', 'e2'],\n",
       "  'c0': ['c3', 'd2', 'e1', 'f0'],\n",
       "  'c1': ['c4', 'd3', 'e2', 'f1'],\n",
       "  'c2': ['c5', 'd4', 'e3', 'f2'],\n",
       "  'd0': ['d3', 'e2', 'f1', 'g0'],\n",
       "  'd1': ['d4', 'e3', 'f2', 'g1'],\n",
       "  'd2': ['d5', 'e4', 'f3', 'g2']},\n",
       " 'up': {'a0': ['a0', 'a1', 'a2', 'a3'],\n",
       "  'a1': ['a1', 'a2', 'a3', 'a4'],\n",
       "  'a2': ['a2', 'a3', 'a4', 'a5'],\n",
       "  'b0': ['b0', 'b1', 'b2', 'b3'],\n",
       "  'b1': ['b1', 'b2', 'b3', 'b4'],\n",
       "  'b2': ['b2', 'b3', 'b4', 'b5'],\n",
       "  'c0': ['c0', 'c1', 'c2', 'c3'],\n",
       "  'c1': ['c1', 'c2', 'c3', 'c4'],\n",
       "  'c2': ['c2', 'c3', 'c4', 'c5'],\n",
       "  'd0': ['d0', 'd1', 'd2', 'd3'],\n",
       "  'd1': ['d1', 'd2', 'd3', 'd4'],\n",
       "  'd2': ['d2', 'd3', 'd4', 'd5']}}"
      ]
     },
     "execution_count": 137,
     "metadata": {},
     "output_type": "execute_result"
    }
   ],
   "source": [
    "get_winning_positions(win_types, columns_checked, rows_checked)"
   ]
  },
  {
   "cell_type": "code",
   "execution_count": 24,
   "metadata": {
    "collapsed": true
   },
   "outputs": [],
   "source": [
    "def win_type_angle(win_type, column_checked, row_checked):\n",
    "\n",
    "    # list row and column positions\n",
    "    if win_type == 'up':\n",
    "        angle_column_positions = list(column_checked) * 4\n",
    "        angle_row_positions = list(map(str, range(row_checked, row_checked + 4)))\n",
    "    elif win_type == 'across':\n",
    "        angle_column_positions = list(map(chr, range(ord(column_checked), ord(column_checked) + 4)))\n",
    "        angle_row_positions = list(str(row_checked)) * 4\n",
    "    elif win_type == 'diag /':\n",
    "        angle_column_positions = list(map(chr, range(ord(column_checked), ord(column_checked) + 4)))\n",
    "        angle_row_positions = list(map(str, range(row_checked, row_checked + 4)))\n",
    "    elif win_type == 'diag \\\\':\n",
    "        angle_column_positions = list(map(chr, range(ord(column_checked), ord(column_checked) + 4)))\n",
    "        angle_row_positions = list(map(str, reversed(range(row_checked, row_checked + 4))))\n",
    "    else:\n",
    "        raise ValueError('not a valid win type')\n",
    "\n",
    "    # combine postitions\n",
    "    return [column + row for column, row in zip(angle_column_positions, angle_row_positions)]"
   ]
  },
  {
   "cell_type": "code",
   "execution_count": 25,
   "metadata": {
    "collapsed": false
   },
   "outputs": [
    {
     "data": {
      "text/plain": [
       "{'a0': {'across': ['a0', 'b0', 'c0', 'd0'],\n",
       "  'diag /': ['a0', 'b1', 'c2', 'd3'],\n",
       "  'diag \\\\': ['a3', 'b2', 'c1', 'd0'],\n",
       "  'up': ['a0', 'a1', 'a2', 'a3']},\n",
       " 'a1': {'across': ['a1', 'b1', 'c1', 'd1'],\n",
       "  'diag /': ['a1', 'b2', 'c3', 'd4'],\n",
       "  'diag \\\\': ['a4', 'b3', 'c2', 'd1'],\n",
       "  'up': ['a1', 'a2', 'a3', 'a4']},\n",
       " 'a2': {'across': ['a2', 'b2', 'c2', 'd2'],\n",
       "  'diag /': ['a2', 'b3', 'c4', 'd5'],\n",
       "  'diag \\\\': ['a5', 'b4', 'c3', 'd2'],\n",
       "  'up': ['a2', 'a3', 'a4', 'a5']},\n",
       " 'b0': {'across': ['b0', 'c0', 'd0', 'e0'],\n",
       "  'diag /': ['b0', 'c1', 'd2', 'e3'],\n",
       "  'diag \\\\': ['b3', 'c2', 'd1', 'e0'],\n",
       "  'up': ['b0', 'b1', 'b2', 'b3']},\n",
       " 'b1': {'across': ['b1', 'c1', 'd1', 'e1'],\n",
       "  'diag /': ['b1', 'c2', 'd3', 'e4'],\n",
       "  'diag \\\\': ['b4', 'c3', 'd2', 'e1'],\n",
       "  'up': ['b1', 'b2', 'b3', 'b4']},\n",
       " 'b2': {'across': ['b2', 'c2', 'd2', 'e2'],\n",
       "  'diag /': ['b2', 'c3', 'd4', 'e5'],\n",
       "  'diag \\\\': ['b5', 'c4', 'd3', 'e2'],\n",
       "  'up': ['b2', 'b3', 'b4', 'b5']},\n",
       " 'c0': {'across': ['c0', 'd0', 'e0', 'f0'],\n",
       "  'diag /': ['c0', 'd1', 'e2', 'f3'],\n",
       "  'diag \\\\': ['c3', 'd2', 'e1', 'f0'],\n",
       "  'up': ['c0', 'c1', 'c2', 'c3']},\n",
       " 'c1': {'across': ['c1', 'd1', 'e1', 'f1'],\n",
       "  'diag /': ['c1', 'd2', 'e3', 'f4'],\n",
       "  'diag \\\\': ['c4', 'd3', 'e2', 'f1'],\n",
       "  'up': ['c1', 'c2', 'c3', 'c4']},\n",
       " 'c2': {'across': ['c2', 'd2', 'e2', 'f2'],\n",
       "  'diag /': ['c2', 'd3', 'e4', 'f5'],\n",
       "  'diag \\\\': ['c5', 'd4', 'e3', 'f2'],\n",
       "  'up': ['c2', 'c3', 'c4', 'c5']},\n",
       " 'd0': {'across': ['d0', 'e0', 'f0', 'g0'],\n",
       "  'diag /': ['d0', 'e1', 'f2', 'g3'],\n",
       "  'diag \\\\': ['d3', 'e2', 'f1', 'g0'],\n",
       "  'up': ['d0', 'd1', 'd2', 'd3']},\n",
       " 'd1': {'across': ['d1', 'e1', 'f1', 'g1'],\n",
       "  'diag /': ['d1', 'e2', 'f3', 'g4'],\n",
       "  'diag \\\\': ['d4', 'e3', 'f2', 'g1'],\n",
       "  'up': ['d1', 'd2', 'd3', 'd4']},\n",
       " 'd2': {'across': ['d2', 'e2', 'f2', 'g2'],\n",
       "  'diag /': ['d2', 'e3', 'f4', 'g5'],\n",
       "  'diag \\\\': ['d5', 'e4', 'f3', 'g2'],\n",
       "  'up': ['d2', 'd3', 'd4', 'd5']},\n",
       " 'e0': {'across': ['e0', 'f0', 'g0', 'h0'],\n",
       "  'diag /': ['e0', 'f1', 'g2', 'h3'],\n",
       "  'diag \\\\': ['e3', 'f2', 'g1', 'h0'],\n",
       "  'up': ['e0', 'e1', 'e2', 'e3']},\n",
       " 'e1': {'across': ['e1', 'f1', 'g1', 'h1'],\n",
       "  'diag /': ['e1', 'f2', 'g3', 'h4'],\n",
       "  'diag \\\\': ['e4', 'f3', 'g2', 'h1'],\n",
       "  'up': ['e1', 'e2', 'e3', 'e4']},\n",
       " 'e2': {'across': ['e2', 'f2', 'g2', 'h2'],\n",
       "  'diag /': ['e2', 'f3', 'g4', 'h5'],\n",
       "  'diag \\\\': ['e5', 'f4', 'g3', 'h2'],\n",
       "  'up': ['e2', 'e3', 'e4', 'e5']},\n",
       " 'f0': {'across': ['f0', 'g0', 'h0', 'i0'],\n",
       "  'diag /': ['f0', 'g1', 'h2', 'i3'],\n",
       "  'diag \\\\': ['f3', 'g2', 'h1', 'i0'],\n",
       "  'up': ['f0', 'f1', 'f2', 'f3']},\n",
       " 'f1': {'across': ['f1', 'g1', 'h1', 'i1'],\n",
       "  'diag /': ['f1', 'g2', 'h3', 'i4'],\n",
       "  'diag \\\\': ['f4', 'g3', 'h2', 'i1'],\n",
       "  'up': ['f1', 'f2', 'f3', 'f4']},\n",
       " 'f2': {'across': ['f2', 'g2', 'h2', 'i2'],\n",
       "  'diag /': ['f2', 'g3', 'h4', 'i5'],\n",
       "  'diag \\\\': ['f5', 'g4', 'h3', 'i2'],\n",
       "  'up': ['f2', 'f3', 'f4', 'f5']},\n",
       " 'g0': {'across': ['g0', 'h0', 'i0', 'j0'],\n",
       "  'diag /': ['g0', 'h1', 'i2', 'j3'],\n",
       "  'diag \\\\': ['g3', 'h2', 'i1', 'j0'],\n",
       "  'up': ['g0', 'g1', 'g2', 'g3']},\n",
       " 'g1': {'across': ['g1', 'h1', 'i1', 'j1'],\n",
       "  'diag /': ['g1', 'h2', 'i3', 'j4'],\n",
       "  'diag \\\\': ['g4', 'h3', 'i2', 'j1'],\n",
       "  'up': ['g1', 'g2', 'g3', 'g4']},\n",
       " 'g2': {'across': ['g2', 'h2', 'i2', 'j2'],\n",
       "  'diag /': ['g2', 'h3', 'i4', 'j5'],\n",
       "  'diag \\\\': ['g5', 'h4', 'i3', 'j2'],\n",
       "  'up': ['g2', 'g3', 'g4', 'g5']}}"
      ]
     },
     "execution_count": 25,
     "metadata": {},
     "output_type": "execute_result"
    }
   ],
   "source": [
    "get_winning_positions(win_types, columns_checked, rows_checked)"
   ]
  },
  {
   "cell_type": "code",
   "execution_count": 26,
   "metadata": {
    "collapsed": true
   },
   "outputs": [],
   "source": [
    "column_add, row_add = 1, 2"
   ]
  },
  {
   "cell_type": "code",
   "execution_count": 27,
   "metadata": {
    "collapsed": true
   },
   "outputs": [],
   "source": [
    "row_checked = 1"
   ]
  },
  {
   "cell_type": "code",
   "execution_count": 28,
   "metadata": {
    "collapsed": true
   },
   "outputs": [],
   "source": [
    "column_checked = 'a'"
   ]
  },
  {
   "cell_type": "code",
   "execution_count": 29,
   "metadata": {
    "collapsed": false
   },
   "outputs": [
    {
     "data": {
      "text/plain": [
       "['d5', 'e4', 'f3', 'g2']"
      ]
     },
     "execution_count": 29,
     "metadata": {},
     "output_type": "execute_result"
    }
   ],
   "source": [
    "win_type_angle('diag \\\\', 'd', 2)"
   ]
  },
  {
   "cell_type": "code",
   "execution_count": 30,
   "metadata": {
    "collapsed": false
   },
   "outputs": [],
   "source": [
    "def get_x_col(column, row, column_add, row_add):\n",
    "    return chr(ord(column) + column_add) + str(row + row_add)"
   ]
  },
  {
   "cell_type": "code",
   "execution_count": 31,
   "metadata": {
    "collapsed": false
   },
   "outputs": [
    {
     "data": {
      "text/plain": [
       "'h7'"
      ]
     },
     "execution_count": 31,
     "metadata": {},
     "output_type": "execute_result"
    }
   ],
   "source": [
    "get_x_col(column, row, column_add, row_add)"
   ]
  },
  {
   "cell_type": "code",
   "execution_count": 36,
   "metadata": {
    "collapsed": false
   },
   "outputs": [
    {
     "ename": "TypeError",
     "evalue": "cannot concatenate 'str' and 'int' objects",
     "output_type": "error",
     "traceback": [
      "\u001b[0;31m---------------------------------------------------------------------------\u001b[0m",
      "\u001b[0;31mTypeError\u001b[0m                                 Traceback (most recent call last)",
      "\u001b[0;32m<ipython-input-36-34aba9bd40c5>\u001b[0m in \u001b[0;36m<module>\u001b[0;34m()\u001b[0m\n\u001b[1;32m      1\u001b[0m \u001b[0mangle_column_positions\u001b[0m \u001b[0;34m=\u001b[0m \u001b[0mlist\u001b[0m\u001b[0;34m(\u001b[0m\u001b[0mmap\u001b[0m\u001b[0;34m(\u001b[0m\u001b[0mchr\u001b[0m\u001b[0;34m,\u001b[0m \u001b[0mrange\u001b[0m\u001b[0;34m(\u001b[0m\u001b[0mord\u001b[0m\u001b[0;34m(\u001b[0m\u001b[0mcolumn\u001b[0m\u001b[0;34m)\u001b[0m\u001b[0;34m,\u001b[0m \u001b[0mord\u001b[0m\u001b[0;34m(\u001b[0m\u001b[0mcolumn\u001b[0m\u001b[0;34m)\u001b[0m \u001b[0;34m+\u001b[0m \u001b[0;36m4\u001b[0m\u001b[0;34m)\u001b[0m\u001b[0;34m)\u001b[0m\u001b[0;34m)\u001b[0m\u001b[0;34m\u001b[0m\u001b[0m\n\u001b[0;32m----> 2\u001b[0;31m \u001b[0mangle_row_positions\u001b[0m \u001b[0;34m=\u001b[0m \u001b[0mlist\u001b[0m\u001b[0;34m(\u001b[0m\u001b[0mmap\u001b[0m\u001b[0;34m(\u001b[0m\u001b[0mstr\u001b[0m\u001b[0;34m,\u001b[0m \u001b[0mrange\u001b[0m\u001b[0;34m(\u001b[0m\u001b[0mrow\u001b[0m\u001b[0;34m,\u001b[0m \u001b[0mrow\u001b[0m \u001b[0;34m+\u001b[0m \u001b[0;36m4\u001b[0m\u001b[0;34m)\u001b[0m\u001b[0;34m)\u001b[0m\u001b[0;34m)\u001b[0m\u001b[0;34m\u001b[0m\u001b[0m\n\u001b[0m\u001b[1;32m      3\u001b[0m \u001b[0;34m[\u001b[0m\u001b[0mcolumn\u001b[0m \u001b[0;34m+\u001b[0m \u001b[0mrow\u001b[0m \u001b[0;32mfor\u001b[0m \u001b[0mcolumn\u001b[0m\u001b[0;34m,\u001b[0m \u001b[0mrow\u001b[0m \u001b[0;32min\u001b[0m \u001b[0mzip\u001b[0m\u001b[0;34m(\u001b[0m\u001b[0mangle_column_positions\u001b[0m\u001b[0;34m,\u001b[0m \u001b[0mangle_row_positions\u001b[0m\u001b[0;34m)\u001b[0m\u001b[0;34m]\u001b[0m\u001b[0;34m\u001b[0m\u001b[0m\n",
      "\u001b[0;31mTypeError\u001b[0m: cannot concatenate 'str' and 'int' objects"
     ]
    }
   ],
   "source": [
    "angle_column_positions = list(map(chr, range(ord(column), ord(column) + 4)))\n",
    "angle_row_positions = list(map(str, range(row, row + 4)))\n",
    "[column + row for column, row in zip(angle_column_positions, angle_row_positions)]"
   ]
  },
  {
   "cell_type": "code",
   "execution_count": 37,
   "metadata": {
    "collapsed": false
   },
   "outputs": [],
   "source": [
    "def check_for_win():\n",
    "    for column in columns_checked(reduce_column, columns, connect_n):\n",
    "        for row in rows_checked(reduce_row, rows, connect_n):\n",
    "            if (positions[1].loc[column + str(row)] \n",
    "                == positions[1].loc[chr(ord(column) + 1) + str(row + 1)] \n",
    "                == positions[1].loc[chr(ord(column) + 2) + str(row + 2)]\n",
    "                == positions[1].loc[chr(ord(column) + 3) + str(row + 3)]\n",
    "                != 0):\n",
    "                print positions[0], column + str(row)"
   ]
  },
  {
   "cell_type": "code",
   "execution_count": 38,
   "metadata": {
    "collapsed": false
   },
   "outputs": [
    {
     "ename": "TypeError",
     "evalue": "slice indices must be integers or None or have an __index__ method",
     "output_type": "error",
     "traceback": [
      "\u001b[0;31m---------------------------------------------------------------------------\u001b[0m",
      "\u001b[0;31mTypeError\u001b[0m                                 Traceback (most recent call last)",
      "\u001b[0;32m<ipython-input-38-38db641413bd>\u001b[0m in \u001b[0;36m<module>\u001b[0;34m()\u001b[0m\n\u001b[0;32m----> 1\u001b[0;31m \u001b[0;32mfor\u001b[0m \u001b[0mrow\u001b[0m \u001b[0;32min\u001b[0m \u001b[0mrows\u001b[0m\u001b[0;34m[\u001b[0m\u001b[0;34m:\u001b[0m\u001b[0mrows_checked\u001b[0m\u001b[0;34m]\u001b[0m\u001b[0;34m:\u001b[0m\u001b[0;34m\u001b[0m\u001b[0m\n\u001b[0m\u001b[1;32m      2\u001b[0m     \u001b[0;32mprint\u001b[0m \u001b[0mrow\u001b[0m\u001b[0;34m\u001b[0m\u001b[0m\n",
      "\u001b[0;31mTypeError\u001b[0m: slice indices must be integers or None or have an __index__ method"
     ]
    }
   ],
   "source": [
    "for row in rows[:rows_checked]:\n",
    "    print row"
   ]
  },
  {
   "cell_type": "code",
   "execution_count": 39,
   "metadata": {
    "collapsed": false
   },
   "outputs": [
    {
     "ename": "NameError",
     "evalue": "name 'column_limit' is not defined",
     "output_type": "error",
     "traceback": [
      "\u001b[0;31m---------------------------------------------------------------------------\u001b[0m",
      "\u001b[0;31mNameError\u001b[0m                                 Traceback (most recent call last)",
      "\u001b[0;32m<ipython-input-39-45ee5ede88be>\u001b[0m in \u001b[0;36m<module>\u001b[0;34m()\u001b[0m\n\u001b[0;32m----> 1\u001b[0;31m \u001b[0;32mfor\u001b[0m \u001b[0mcolumn\u001b[0m \u001b[0;32min\u001b[0m \u001b[0mcolumns\u001b[0m\u001b[0;34m[\u001b[0m\u001b[0;34m:\u001b[0m\u001b[0mcolumn_limit\u001b[0m\u001b[0;34m]\u001b[0m\u001b[0;34m:\u001b[0m\u001b[0;34m\u001b[0m\u001b[0m\n\u001b[0m\u001b[1;32m      2\u001b[0m     \u001b[0;32mprint\u001b[0m \u001b[0mcolumn\u001b[0m\u001b[0;34m\u001b[0m\u001b[0m\n",
      "\u001b[0;31mNameError\u001b[0m: name 'column_limit' is not defined"
     ]
    }
   ],
   "source": [
    "for column in columns[:column_limit]:\n",
    "    print column"
   ]
  },
  {
   "cell_type": "code",
   "execution_count": 40,
   "metadata": {
    "collapsed": false,
    "scrolled": true
   },
   "outputs": [
    {
     "name": "stdout",
     "output_type": "stream",
     "text": [
      "2 g2\n",
      "5 e0\n",
      "5 f2\n",
      "6 b1\n",
      "9 f1\n"
     ]
    }
   ],
   "source": [
    "# up\n",
    "for positions in X_rand[:10].iterrows():\n",
    "    for column in columns:\n",
    "        for row in rows[:-3]:\n",
    "            if (positions[1].loc[column + str(row)] \n",
    "                == positions[1].loc[column + str(row + 1)] \n",
    "                == positions[1].loc[column + str(row + 2)]\n",
    "                == positions[1].loc[column + str(row + 3)]\n",
    "                != 0):\n",
    "                print positions[0], column + str(row)"
   ]
  },
  {
   "cell_type": "code",
   "execution_count": 41,
   "metadata": {
    "collapsed": false
   },
   "outputs": [
    {
     "name": "stdout",
     "output_type": "stream",
     "text": [
      "2 d3\n",
      "3 a5\n",
      "5 a0\n",
      "9 c0\n"
     ]
    }
   ],
   "source": [
    "# across\n",
    "for positions in X_rand[:10].iterrows():\n",
    "    for column in columns[:-3]:\n",
    "        for row in rows:\n",
    "            if (positions[1].loc[column + str(row)] \n",
    "                == positions[1].loc[chr(ord(column) + 1) + str(row)] \n",
    "                == positions[1].loc[chr(ord(column) + 2) + str(row)]\n",
    "                == positions[1].loc[chr(ord(column) + 3) + str(row)]\n",
    "                != 0):\n",
    "                print positions[0], column + str(row)"
   ]
  },
  {
   "cell_type": "code",
   "execution_count": 42,
   "metadata": {
    "collapsed": false
   },
   "outputs": [
    {
     "name": "stdout",
     "output_type": "stream",
     "text": [
      "10 a2\n",
      "15 b0\n",
      "17 d0\n",
      "33 b0\n",
      "38 d2\n",
      "42 b0\n",
      "42 c1\n",
      "42 d2\n",
      "43 d0\n",
      "45 d2\n",
      "47 a2\n",
      "47 c1\n",
      "51 a0\n",
      "52 a2\n",
      "53 b2\n",
      "61 b1\n",
      "61 c2\n",
      "68 c0\n",
      "68 d1\n",
      "69 c2\n",
      "75 b1\n",
      "81 c1\n",
      "86 d2\n",
      "87 a1\n",
      "87 b2\n",
      "94 d1\n",
      "96 d0\n"
     ]
    }
   ],
   "source": [
    "# diag /\n",
    "for positions in X_rand[:100].iterrows():\n",
    "    for column in columns[:-3]:\n",
    "        for row in rows[:-3]:\n",
    "            if (positions[1].loc[column + str(row)] \n",
    "                == positions[1].loc[chr(ord(column) + 1) + str(row + 1)] \n",
    "                == positions[1].loc[chr(ord(column) + 2) + str(row + 2)]\n",
    "                == positions[1].loc[chr(ord(column) + 3) + str(row + 3)]\n",
    "                != 0):\n",
    "                print positions[0], column + str(row)"
   ]
  },
  {
   "cell_type": "code",
   "execution_count": 43,
   "metadata": {
    "collapsed": false
   },
   "outputs": [
    {
     "name": "stdout",
     "output_type": "stream",
     "text": [
      "1 b5\n",
      "1 c4\n",
      "1 d3\n",
      "2 d5\n",
      "3 a5\n",
      "3 b4\n",
      "8 a5\n",
      "11 d5\n",
      "26 b5\n",
      "26 c4\n",
      "26 d3\n",
      "28 a4\n",
      "30 b3\n",
      "31 c4\n",
      "34 a5\n",
      "35 b3\n",
      "38 a4\n",
      "40 a3\n",
      "42 c3\n",
      "46 c3\n",
      "52 c5\n",
      "54 b5\n",
      "66 c3\n",
      "81 d3\n",
      "83 a3\n",
      "85 c3\n",
      "87 b5\n"
     ]
    }
   ],
   "source": [
    "# diag \\\n",
    "for positions in X_rand[:100].iterrows():\n",
    "    for column in columns[:-3]:\n",
    "        for row in rows[:-3]:\n",
    "            if (positions[1].loc[column + str(row + 3)] \n",
    "                == positions[1].loc[chr(ord(column) + 1) + str(row + 2)] \n",
    "                == positions[1].loc[chr(ord(column) + 2) + str(row + 1)]\n",
    "                == positions[1].loc[chr(ord(column) + 3) + str(row)]\n",
    "                != 0):\n",
    "                print positions[0], column + str(row + 3)"
   ]
  },
  {
   "cell_type": "code",
   "execution_count": 44,
   "metadata": {
    "collapsed": false
   },
   "outputs": [
    {
     "data": {
      "text/plain": [
       "a0    0\n",
       "a1   -1\n",
       "a2    1\n",
       "a3    1\n",
       "a4    1\n",
       "a5   -1\n",
       "b0    1\n",
       "b1   -1\n",
       "b2   -1\n",
       "b3    1\n",
       "b4    0\n",
       "b5    1\n",
       "c0    1\n",
       "c1   -1\n",
       "c2    1\n",
       "c3    0\n",
       "c4    1\n",
       "c5   -1\n",
       "d0    1\n",
       "d1   -1\n",
       "d2    0\n",
       "d3   -1\n",
       "d4    1\n",
       "d5    1\n",
       "e0    1\n",
       "e1    0\n",
       "e2    1\n",
       "e3    1\n",
       "e4    0\n",
       "e5   -1\n",
       "f0    0\n",
       "f1    0\n",
       "f2    1\n",
       "f3    1\n",
       "f4   -1\n",
       "f5    1\n",
       "g0   -1\n",
       "g1   -1\n",
       "g2   -1\n",
       "g3    1\n",
       "g4    1\n",
       "g5   -1\n",
       "Name: 10, dtype: int64"
      ]
     },
     "execution_count": 44,
     "metadata": {},
     "output_type": "execute_result"
    }
   ],
   "source": [
    "X_rand.loc[10]"
   ]
  },
  {
   "cell_type": "code",
   "execution_count": 45,
   "metadata": {
    "collapsed": false
   },
   "outputs": [
    {
     "ename": "KeyError",
     "evalue": "('a', 0)",
     "output_type": "error",
     "traceback": [
      "\u001b[0;31m---------------------------------------------------------------------------\u001b[0m",
      "\u001b[0;31mKeyError\u001b[0m                                  Traceback (most recent call last)",
      "\u001b[0;32m<ipython-input-45-45f896fed076>\u001b[0m in \u001b[0;36m<module>\u001b[0;34m()\u001b[0m\n\u001b[1;32m      1\u001b[0m \u001b[0;32mfor\u001b[0m \u001b[0mcolumn\u001b[0m \u001b[0;32min\u001b[0m \u001b[0mcolumns\u001b[0m\u001b[0;34m:\u001b[0m\u001b[0;34m\u001b[0m\u001b[0m\n\u001b[1;32m      2\u001b[0m     \u001b[0;32mfor\u001b[0m \u001b[0mrow\u001b[0m \u001b[0;32min\u001b[0m \u001b[0mrows\u001b[0m\u001b[0;34m:\u001b[0m\u001b[0;34m\u001b[0m\u001b[0m\n\u001b[0;32m----> 3\u001b[0;31m         \u001b[0;32mprint\u001b[0m \u001b[0mX_rand\u001b[0m\u001b[0;34m.\u001b[0m\u001b[0miloc\u001b[0m\u001b[0;34m[\u001b[0m\u001b[0;36m0\u001b[0m\u001b[0;34m]\u001b[0m\u001b[0;34m[\u001b[0m\u001b[0;34m(\u001b[0m\u001b[0mcolumn\u001b[0m\u001b[0;34m,\u001b[0m \u001b[0mrow\u001b[0m\u001b[0;34m)\u001b[0m\u001b[0;34m]\u001b[0m \u001b[0;34m==\u001b[0m \u001b[0mX_rand\u001b[0m\u001b[0;34m.\u001b[0m\u001b[0miloc\u001b[0m\u001b[0;34m[\u001b[0m\u001b[0;36m0\u001b[0m\u001b[0;34m]\u001b[0m\u001b[0;34m[\u001b[0m\u001b[0;34m(\u001b[0m\u001b[0mcolumn\u001b[0m \u001b[0;34m+\u001b[0m \u001b[0;36m1\u001b[0m\u001b[0;34m,\u001b[0m \u001b[0mrow\u001b[0m\u001b[0;34m)\u001b[0m\u001b[0;34m]\u001b[0m\u001b[0;34m\u001b[0m\u001b[0m\n\u001b[0m",
      "\u001b[0;32m/Users/dfeldman/anaconda/lib/python2.7/site-packages/pandas/core/series.pyc\u001b[0m in \u001b[0;36m__getitem__\u001b[0;34m(self, key)\u001b[0m\n\u001b[1;32m    519\u001b[0m     \u001b[0;32mdef\u001b[0m \u001b[0m__getitem__\u001b[0m\u001b[0;34m(\u001b[0m\u001b[0mself\u001b[0m\u001b[0;34m,\u001b[0m \u001b[0mkey\u001b[0m\u001b[0;34m)\u001b[0m\u001b[0;34m:\u001b[0m\u001b[0;34m\u001b[0m\u001b[0m\n\u001b[1;32m    520\u001b[0m         \u001b[0;32mtry\u001b[0m\u001b[0;34m:\u001b[0m\u001b[0;34m\u001b[0m\u001b[0m\n\u001b[0;32m--> 521\u001b[0;31m             \u001b[0mresult\u001b[0m \u001b[0;34m=\u001b[0m \u001b[0mself\u001b[0m\u001b[0;34m.\u001b[0m\u001b[0mindex\u001b[0m\u001b[0;34m.\u001b[0m\u001b[0mget_value\u001b[0m\u001b[0;34m(\u001b[0m\u001b[0mself\u001b[0m\u001b[0;34m,\u001b[0m \u001b[0mkey\u001b[0m\u001b[0;34m)\u001b[0m\u001b[0;34m\u001b[0m\u001b[0m\n\u001b[0m\u001b[1;32m    522\u001b[0m \u001b[0;34m\u001b[0m\u001b[0m\n\u001b[1;32m    523\u001b[0m             \u001b[0;32mif\u001b[0m \u001b[0;32mnot\u001b[0m \u001b[0mnp\u001b[0m\u001b[0;34m.\u001b[0m\u001b[0misscalar\u001b[0m\u001b[0;34m(\u001b[0m\u001b[0mresult\u001b[0m\u001b[0;34m)\u001b[0m\u001b[0;34m:\u001b[0m\u001b[0;34m\u001b[0m\u001b[0m\n",
      "\u001b[0;32m/Users/dfeldman/anaconda/lib/python2.7/site-packages/pandas/core/index.pyc\u001b[0m in \u001b[0;36mget_value\u001b[0;34m(self, series, key)\u001b[0m\n\u001b[1;32m   1607\u001b[0m                     \u001b[0;32mraise\u001b[0m \u001b[0mInvalidIndexError\u001b[0m\u001b[0;34m(\u001b[0m\u001b[0mkey\u001b[0m\u001b[0;34m)\u001b[0m\u001b[0;34m\u001b[0m\u001b[0m\n\u001b[1;32m   1608\u001b[0m                 \u001b[0;32melse\u001b[0m\u001b[0;34m:\u001b[0m\u001b[0;34m\u001b[0m\u001b[0m\n\u001b[0;32m-> 1609\u001b[0;31m                     \u001b[0;32mraise\u001b[0m \u001b[0me1\u001b[0m\u001b[0;34m\u001b[0m\u001b[0m\n\u001b[0m\u001b[1;32m   1610\u001b[0m             \u001b[0;32mexcept\u001b[0m \u001b[0mException\u001b[0m\u001b[0;34m:\u001b[0m  \u001b[0;31m# pragma: no cover\u001b[0m\u001b[0;34m\u001b[0m\u001b[0m\n\u001b[1;32m   1611\u001b[0m                 \u001b[0;32mraise\u001b[0m \u001b[0me1\u001b[0m\u001b[0;34m\u001b[0m\u001b[0m\n",
      "\u001b[0;31mKeyError\u001b[0m: ('a', 0)"
     ]
    }
   ],
   "source": [
    "for column in columns:\n",
    "    for row in rows:\n",
    "        print X_rand.iloc[0][(column, row)] == X_rand.iloc[0][(column + 1, row)]"
   ]
  },
  {
   "cell_type": "code",
   "execution_count": null,
   "metadata": {
    "collapsed": true
   },
   "outputs": [],
   "source": []
  },
  {
   "cell_type": "code",
   "execution_count": null,
   "metadata": {
    "collapsed": true
   },
   "outputs": [],
   "source": []
  },
  {
   "cell_type": "code",
   "execution_count": null,
   "metadata": {
    "collapsed": true
   },
   "outputs": [],
   "source": []
  },
  {
   "cell_type": "code",
   "execution_count": null,
   "metadata": {
    "collapsed": true
   },
   "outputs": [],
   "source": []
  },
  {
   "cell_type": "code",
   "execution_count": null,
   "metadata": {
    "collapsed": true
   },
   "outputs": [],
   "source": []
  },
  {
   "cell_type": "code",
   "execution_count": null,
   "metadata": {
    "collapsed": true
   },
   "outputs": [],
   "source": []
  }
 ],
 "metadata": {
  "kernelspec": {
   "display_name": "Python 2",
   "language": "python",
   "name": "python2"
  },
  "language_info": {
   "codemirror_mode": {
    "name": "ipython",
    "version": 2
   },
   "file_extension": ".py",
   "mimetype": "text/x-python",
   "name": "python",
   "nbconvert_exporter": "python",
   "pygments_lexer": "ipython2",
   "version": "2.7.12"
  }
 },
 "nbformat": 4,
 "nbformat_minor": 0
}
